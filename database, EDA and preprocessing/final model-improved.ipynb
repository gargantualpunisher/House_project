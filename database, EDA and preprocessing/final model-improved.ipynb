{
 "cells": [
  {
   "cell_type": "code",
   "execution_count": 133,
   "id": "a40b195a",
   "metadata": {},
   "outputs": [],
   "source": [
    "import pandas as pd\n",
    "import matplotlib.pyplot as plt\n",
    "%matplotlib inline\n",
    "import seaborn as sns"
   ]
  },
  {
   "cell_type": "code",
   "execution_count": 134,
   "id": "8fc0909d",
   "metadata": {},
   "outputs": [],
   "source": [
    "file = pd.read_csv(r\"D:\\my prepared dataset\\99 acres\\New folder (2)\\final\\cleaned8_after_outliers.csv\")"
   ]
  },
  {
   "cell_type": "code",
   "execution_count": 135,
   "id": "6b143ace",
   "metadata": {},
   "outputs": [],
   "source": [
    "file2 = file[file['floorNum'].notnull()]"
   ]
  },
  {
   "cell_type": "code",
   "execution_count": 136,
   "id": "8bd80359",
   "metadata": {},
   "outputs": [
    {
     "data": {
      "text/html": [
       "<div>\n",
       "<style scoped>\n",
       "    .dataframe tbody tr th:only-of-type {\n",
       "        vertical-align: middle;\n",
       "    }\n",
       "\n",
       "    .dataframe tbody tr th {\n",
       "        vertical-align: top;\n",
       "    }\n",
       "\n",
       "    .dataframe thead th {\n",
       "        text-align: right;\n",
       "    }\n",
       "</style>\n",
       "<table border=\"1\" class=\"dataframe\">\n",
       "  <thead>\n",
       "    <tr style=\"text-align: right;\">\n",
       "      <th></th>\n",
       "      <th>property_type</th>\n",
       "      <th>society</th>\n",
       "      <th>price</th>\n",
       "      <th>price1</th>\n",
       "      <th>price_per_sqft</th>\n",
       "      <th>bedRoom</th>\n",
       "      <th>bathroom</th>\n",
       "      <th>balcony</th>\n",
       "      <th>floorNum</th>\n",
       "      <th>agePossession</th>\n",
       "      <th>...</th>\n",
       "      <th>Other</th>\n",
       "      <th>servant</th>\n",
       "      <th>Store</th>\n",
       "      <th>Pooja</th>\n",
       "      <th>Study</th>\n",
       "      <th>luxury_score</th>\n",
       "      <th>Furnished</th>\n",
       "      <th>carpet12</th>\n",
       "      <th>Build</th>\n",
       "      <th>Super_area</th>\n",
       "    </tr>\n",
       "  </thead>\n",
       "  <tbody>\n",
       "    <tr>\n",
       "      <th>0</th>\n",
       "      <td>flat</td>\n",
       "      <td>maa bhagwati residency</td>\n",
       "      <td>0.45</td>\n",
       "      <td>4500000</td>\n",
       "      <td>5000</td>\n",
       "      <td>2</td>\n",
       "      <td>2</td>\n",
       "      <td>1</td>\n",
       "      <td>4</td>\n",
       "      <td>moderate</td>\n",
       "      <td>...</td>\n",
       "      <td>0</td>\n",
       "      <td>0</td>\n",
       "      <td>0</td>\n",
       "      <td>0</td>\n",
       "      <td>0</td>\n",
       "      <td>28</td>\n",
       "      <td>1</td>\n",
       "      <td>899.969679</td>\n",
       "      <td>1012.526436</td>\n",
       "      <td>1125.490664</td>\n",
       "    </tr>\n",
       "    <tr>\n",
       "      <th>1</th>\n",
       "      <td>flat</td>\n",
       "      <td>apna enclave</td>\n",
       "      <td>0.50</td>\n",
       "      <td>5000000</td>\n",
       "      <td>7692</td>\n",
       "      <td>2</td>\n",
       "      <td>2</td>\n",
       "      <td>1</td>\n",
       "      <td>1</td>\n",
       "      <td>very old</td>\n",
       "      <td>...</td>\n",
       "      <td>0</td>\n",
       "      <td>0</td>\n",
       "      <td>0</td>\n",
       "      <td>0</td>\n",
       "      <td>0</td>\n",
       "      <td>37</td>\n",
       "      <td>0</td>\n",
       "      <td>650.031921</td>\n",
       "      <td>731.329643</td>\n",
       "      <td>812.921674</td>\n",
       "    </tr>\n",
       "    <tr>\n",
       "      <th>2</th>\n",
       "      <td>flat</td>\n",
       "      <td>tulsiani easy in homes</td>\n",
       "      <td>0.40</td>\n",
       "      <td>4000000</td>\n",
       "      <td>6722</td>\n",
       "      <td>2</td>\n",
       "      <td>2</td>\n",
       "      <td>3</td>\n",
       "      <td>12</td>\n",
       "      <td>new</td>\n",
       "      <td>...</td>\n",
       "      <td>0</td>\n",
       "      <td>0</td>\n",
       "      <td>0</td>\n",
       "      <td>0</td>\n",
       "      <td>0</td>\n",
       "      <td>36</td>\n",
       "      <td>1</td>\n",
       "      <td>595.028392</td>\n",
       "      <td>669.446973</td>\n",
       "      <td>744.134959</td>\n",
       "    </tr>\n",
       "    <tr>\n",
       "      <th>3</th>\n",
       "      <td>flat</td>\n",
       "      <td>smart world orchard</td>\n",
       "      <td>1.47</td>\n",
       "      <td>14700000</td>\n",
       "      <td>12250</td>\n",
       "      <td>2</td>\n",
       "      <td>2</td>\n",
       "      <td>2</td>\n",
       "      <td>2</td>\n",
       "      <td>new</td>\n",
       "      <td>...</td>\n",
       "      <td>0</td>\n",
       "      <td>0</td>\n",
       "      <td>0</td>\n",
       "      <td>0</td>\n",
       "      <td>0</td>\n",
       "      <td>76</td>\n",
       "      <td>1</td>\n",
       "      <td>1199.959572</td>\n",
       "      <td>1350.035248</td>\n",
       "      <td>1500.654218</td>\n",
       "    </tr>\n",
       "    <tr>\n",
       "      <th>4</th>\n",
       "      <td>flat</td>\n",
       "      <td>parkwood westend</td>\n",
       "      <td>0.70</td>\n",
       "      <td>7000000</td>\n",
       "      <td>5204</td>\n",
       "      <td>2</td>\n",
       "      <td>2</td>\n",
       "      <td>3</td>\n",
       "      <td>5</td>\n",
       "      <td>under construction</td>\n",
       "      <td>...</td>\n",
       "      <td>0</td>\n",
       "      <td>0</td>\n",
       "      <td>0</td>\n",
       "      <td>0</td>\n",
       "      <td>0</td>\n",
       "      <td>0</td>\n",
       "      <td>1</td>\n",
       "      <td>1075.454140</td>\n",
       "      <td>1209.958261</td>\n",
       "      <td>1344.949305</td>\n",
       "    </tr>\n",
       "    <tr>\n",
       "      <th>...</th>\n",
       "      <td>...</td>\n",
       "      <td>...</td>\n",
       "      <td>...</td>\n",
       "      <td>...</td>\n",
       "      <td>...</td>\n",
       "      <td>...</td>\n",
       "      <td>...</td>\n",
       "      <td>...</td>\n",
       "      <td>...</td>\n",
       "      <td>...</td>\n",
       "      <td>...</td>\n",
       "      <td>...</td>\n",
       "      <td>...</td>\n",
       "      <td>...</td>\n",
       "      <td>...</td>\n",
       "      <td>...</td>\n",
       "      <td>...</td>\n",
       "      <td>...</td>\n",
       "      <td>...</td>\n",
       "      <td>...</td>\n",
       "      <td>...</td>\n",
       "    </tr>\n",
       "    <tr>\n",
       "      <th>3326</th>\n",
       "      <td>House</td>\n",
       "      <td>NaN</td>\n",
       "      <td>5.65</td>\n",
       "      <td>56500000</td>\n",
       "      <td>23870</td>\n",
       "      <td>8</td>\n",
       "      <td>6</td>\n",
       "      <td>4</td>\n",
       "      <td>3</td>\n",
       "      <td>old</td>\n",
       "      <td>...</td>\n",
       "      <td>0</td>\n",
       "      <td>1</td>\n",
       "      <td>0</td>\n",
       "      <td>0</td>\n",
       "      <td>0</td>\n",
       "      <td>67</td>\n",
       "      <td>1</td>\n",
       "      <td>1722.224000</td>\n",
       "      <td>1823.404660</td>\n",
       "      <td>2368.058000</td>\n",
       "    </tr>\n",
       "    <tr>\n",
       "      <th>3327</th>\n",
       "      <td>House</td>\n",
       "      <td>NaN</td>\n",
       "      <td>3.55</td>\n",
       "      <td>35500000</td>\n",
       "      <td>24500</td>\n",
       "      <td>5</td>\n",
       "      <td>4</td>\n",
       "      <td>4</td>\n",
       "      <td>3</td>\n",
       "      <td>old</td>\n",
       "      <td>...</td>\n",
       "      <td>0</td>\n",
       "      <td>1</td>\n",
       "      <td>0</td>\n",
       "      <td>0</td>\n",
       "      <td>0</td>\n",
       "      <td>73</td>\n",
       "      <td>1</td>\n",
       "      <td>1056.819273</td>\n",
       "      <td>1118.907405</td>\n",
       "      <td>1453.126500</td>\n",
       "    </tr>\n",
       "    <tr>\n",
       "      <th>3328</th>\n",
       "      <td>House</td>\n",
       "      <td>NaN</td>\n",
       "      <td>3.10</td>\n",
       "      <td>31000000</td>\n",
       "      <td>20026</td>\n",
       "      <td>5</td>\n",
       "      <td>4</td>\n",
       "      <td>4</td>\n",
       "      <td>2</td>\n",
       "      <td>old</td>\n",
       "      <td>...</td>\n",
       "      <td>0</td>\n",
       "      <td>1</td>\n",
       "      <td>1</td>\n",
       "      <td>0</td>\n",
       "      <td>0</td>\n",
       "      <td>59</td>\n",
       "      <td>1</td>\n",
       "      <td>1127.273891</td>\n",
       "      <td>1193.501232</td>\n",
       "      <td>1550.001600</td>\n",
       "    </tr>\n",
       "    <tr>\n",
       "      <th>3329</th>\n",
       "      <td>House</td>\n",
       "      <td>Silverglades Tarudhan Valley Golf Resort</td>\n",
       "      <td>3.05</td>\n",
       "      <td>30500000</td>\n",
       "      <td>12551</td>\n",
       "      <td>3</td>\n",
       "      <td>3</td>\n",
       "      <td>2</td>\n",
       "      <td>2</td>\n",
       "      <td>old</td>\n",
       "      <td>...</td>\n",
       "      <td>1</td>\n",
       "      <td>1</td>\n",
       "      <td>0</td>\n",
       "      <td>1</td>\n",
       "      <td>1</td>\n",
       "      <td>160</td>\n",
       "      <td>1</td>\n",
       "      <td>1769.193745</td>\n",
       "      <td>1873.133878</td>\n",
       "      <td>2432.641400</td>\n",
       "    </tr>\n",
       "    <tr>\n",
       "      <th>3330</th>\n",
       "      <td>House</td>\n",
       "      <td>Silverglades Tarudhan Valley Golf Resort</td>\n",
       "      <td>3.60</td>\n",
       "      <td>36000000</td>\n",
       "      <td>14815</td>\n",
       "      <td>3</td>\n",
       "      <td>3</td>\n",
       "      <td>2</td>\n",
       "      <td>2</td>\n",
       "      <td>old</td>\n",
       "      <td>...</td>\n",
       "      <td>1</td>\n",
       "      <td>1</td>\n",
       "      <td>0</td>\n",
       "      <td>1</td>\n",
       "      <td>1</td>\n",
       "      <td>160</td>\n",
       "      <td>1</td>\n",
       "      <td>1769.193745</td>\n",
       "      <td>1873.133878</td>\n",
       "      <td>2432.641400</td>\n",
       "    </tr>\n",
       "  </tbody>\n",
       "</table>\n",
       "<p>3331 rows × 22 columns</p>\n",
       "</div>"
      ],
      "text/plain": [
       "     property_type                                   society  price    price1  \\\n",
       "0             flat                    maa bhagwati residency   0.45   4500000   \n",
       "1             flat                              apna enclave   0.50   5000000   \n",
       "2             flat                    tulsiani easy in homes   0.40   4000000   \n",
       "3             flat                       smart world orchard   1.47  14700000   \n",
       "4             flat                          parkwood westend   0.70   7000000   \n",
       "...            ...                                       ...    ...       ...   \n",
       "3326         House                                       NaN   5.65  56500000   \n",
       "3327         House                                       NaN   3.55  35500000   \n",
       "3328         House                                       NaN   3.10  31000000   \n",
       "3329         House  Silverglades Tarudhan Valley Golf Resort   3.05  30500000   \n",
       "3330         House  Silverglades Tarudhan Valley Golf Resort   3.60  36000000   \n",
       "\n",
       "      price_per_sqft  bedRoom  bathroom  balcony  floorNum  \\\n",
       "0               5000        2         2        1         4   \n",
       "1               7692        2         2        1         1   \n",
       "2               6722        2         2        3        12   \n",
       "3              12250        2         2        2         2   \n",
       "4               5204        2         2        3         5   \n",
       "...              ...      ...       ...      ...       ...   \n",
       "3326           23870        8         6        4         3   \n",
       "3327           24500        5         4        4         3   \n",
       "3328           20026        5         4        4         2   \n",
       "3329           12551        3         3        2         2   \n",
       "3330           14815        3         3        2         2   \n",
       "\n",
       "           agePossession  ...  Other servant  Store  Pooja  Study  \\\n",
       "0               moderate  ...      0       0      0      0      0   \n",
       "1               very old  ...      0       0      0      0      0   \n",
       "2                    new  ...      0       0      0      0      0   \n",
       "3                    new  ...      0       0      0      0      0   \n",
       "4     under construction  ...      0       0      0      0      0   \n",
       "...                  ...  ...    ...     ...    ...    ...    ...   \n",
       "3326                 old  ...      0       1      0      0      0   \n",
       "3327                 old  ...      0       1      0      0      0   \n",
       "3328                 old  ...      0       1      1      0      0   \n",
       "3329                 old  ...      1       1      0      1      1   \n",
       "3330                 old  ...      1       1      0      1      1   \n",
       "\n",
       "      luxury_score  Furnished     carpet12        Build   Super_area  \n",
       "0               28          1   899.969679  1012.526436  1125.490664  \n",
       "1               37          0   650.031921   731.329643   812.921674  \n",
       "2               36          1   595.028392   669.446973   744.134959  \n",
       "3               76          1  1199.959572  1350.035248  1500.654218  \n",
       "4                0          1  1075.454140  1209.958261  1344.949305  \n",
       "...            ...        ...          ...          ...          ...  \n",
       "3326            67          1  1722.224000  1823.404660  2368.058000  \n",
       "3327            73          1  1056.819273  1118.907405  1453.126500  \n",
       "3328            59          1  1127.273891  1193.501232  1550.001600  \n",
       "3329           160          1  1769.193745  1873.133878  2432.641400  \n",
       "3330           160          1  1769.193745  1873.133878  2432.641400  \n",
       "\n",
       "[3331 rows x 22 columns]"
      ]
     },
     "execution_count": 136,
     "metadata": {},
     "output_type": "execute_result"
    }
   ],
   "source": [
    "file2"
   ]
  },
  {
   "cell_type": "markdown",
   "id": "e4b5fa8a",
   "metadata": {},
   "source": [
    "# check"
   ]
  },
  {
   "cell_type": "code",
   "execution_count": 137,
   "id": "9d2e93ca",
   "metadata": {},
   "outputs": [
    {
     "data": {
      "text/plain": [
       "property_type       0\n",
       "society           219\n",
       "price               0\n",
       "price1              0\n",
       "price_per_sqft      0\n",
       "bedRoom             0\n",
       "bathroom            0\n",
       "balcony             0\n",
       "floorNum            0\n",
       "agePossession       0\n",
       "BHK                 0\n",
       "Location            0\n",
       "Other               0\n",
       "servant             0\n",
       "Store               0\n",
       "Pooja               0\n",
       "Study               0\n",
       "luxury_score        0\n",
       "Furnished           0\n",
       "carpet12            0\n",
       "Build               0\n",
       "Super_area          0\n",
       "dtype: int64"
      ]
     },
     "execution_count": 137,
     "metadata": {},
     "output_type": "execute_result"
    }
   ],
   "source": [
    "file2.isnull().sum()"
   ]
  },
  {
   "cell_type": "code",
   "execution_count": 138,
   "id": "9fee5de1",
   "metadata": {},
   "outputs": [
    {
     "name": "stdout",
     "output_type": "stream",
     "text": [
      "<class 'pandas.core.frame.DataFrame'>\n",
      "RangeIndex: 3331 entries, 0 to 3330\n",
      "Data columns (total 22 columns):\n",
      " #   Column          Non-Null Count  Dtype  \n",
      "---  ------          --------------  -----  \n",
      " 0   property_type   3331 non-null   object \n",
      " 1   society         3112 non-null   object \n",
      " 2   price           3331 non-null   float64\n",
      " 3   price1          3331 non-null   int64  \n",
      " 4   price_per_sqft  3331 non-null   int64  \n",
      " 5   bedRoom         3331 non-null   int64  \n",
      " 6   bathroom        3331 non-null   int64  \n",
      " 7   balcony         3331 non-null   int64  \n",
      " 8   floorNum        3331 non-null   int64  \n",
      " 9   agePossession   3331 non-null   object \n",
      " 10  BHK             3331 non-null   int64  \n",
      " 11  Location        3331 non-null   object \n",
      " 12  Other           3331 non-null   int64  \n",
      " 13  servant         3331 non-null   int64  \n",
      " 14  Store           3331 non-null   int64  \n",
      " 15  Pooja           3331 non-null   int64  \n",
      " 16  Study           3331 non-null   int64  \n",
      " 17  luxury_score    3331 non-null   int64  \n",
      " 18  Furnished       3331 non-null   int64  \n",
      " 19  carpet12        3331 non-null   float64\n",
      " 20  Build           3331 non-null   float64\n",
      " 21  Super_area      3331 non-null   float64\n",
      "dtypes: float64(4), int64(14), object(4)\n",
      "memory usage: 572.6+ KB\n"
     ]
    }
   ],
   "source": [
    "file2.info()"
   ]
  },
  {
   "cell_type": "markdown",
   "id": "d2f70131",
   "metadata": {},
   "source": [
    "# Feature check"
   ]
  },
  {
   "cell_type": "code",
   "execution_count": 139,
   "id": "baaf5bca",
   "metadata": {},
   "outputs": [],
   "source": [
    "file2 = file2.reset_index()\n",
    "file2 = file2.drop(['index'], axis=1)"
   ]
  },
  {
   "cell_type": "markdown",
   "id": "0de55e35",
   "metadata": {},
   "source": [
    "# floorNum"
   ]
  },
  {
   "cell_type": "code",
   "execution_count": 140,
   "id": "9618cae7",
   "metadata": {},
   "outputs": [
    {
     "data": {
      "text/plain": [
       "array([ 4,  1, 12,  2,  5,  3, 14, 31, 13, 25,  0, 11, 10, 20,  8, 21,  6,\n",
       "        9, 18, 29,  7, 15, 32, 23, 16, 19, 17, 28, 27, 33, 35, 26, 22, 24,\n",
       "       30, 34], dtype=int64)"
      ]
     },
     "execution_count": 140,
     "metadata": {},
     "output_type": "execute_result"
    }
   ],
   "source": [
    "file2['floorNum'].unique()"
   ]
  },
  {
   "cell_type": "code",
   "execution_count": 141,
   "id": "d199dd81",
   "metadata": {},
   "outputs": [],
   "source": [
    "list2 = [ ]"
   ]
  },
  {
   "cell_type": "code",
   "execution_count": 142,
   "id": "412da7f4",
   "metadata": {},
   "outputs": [],
   "source": [
    "def floor(data, list1):\n",
    "    for i in data:\n",
    "        if i <= 11:\n",
    "            list1.append('low')\n",
    "        elif i > 11 and i <= 23:\n",
    "            list1.append('medium')\n",
    "        else:\n",
    "            list1.append('high')\n",
    "            \n",
    "            "
   ]
  },
  {
   "cell_type": "code",
   "execution_count": 143,
   "id": "39bc90f9",
   "metadata": {},
   "outputs": [],
   "source": [
    "floor(file2['floorNum'], list2)"
   ]
  },
  {
   "cell_type": "code",
   "execution_count": 144,
   "id": "4afc91ef",
   "metadata": {},
   "outputs": [],
   "source": [
    "file2['floorNum'] = list2"
   ]
  },
  {
   "cell_type": "code",
   "execution_count": 145,
   "id": "4c892f21",
   "metadata": {},
   "outputs": [
    {
     "data": {
      "text/html": [
       "<div>\n",
       "<style scoped>\n",
       "    .dataframe tbody tr th:only-of-type {\n",
       "        vertical-align: middle;\n",
       "    }\n",
       "\n",
       "    .dataframe tbody tr th {\n",
       "        vertical-align: top;\n",
       "    }\n",
       "\n",
       "    .dataframe thead th {\n",
       "        text-align: right;\n",
       "    }\n",
       "</style>\n",
       "<table border=\"1\" class=\"dataframe\">\n",
       "  <thead>\n",
       "    <tr style=\"text-align: right;\">\n",
       "      <th></th>\n",
       "      <th>property_type</th>\n",
       "      <th>society</th>\n",
       "      <th>price</th>\n",
       "      <th>price1</th>\n",
       "      <th>price_per_sqft</th>\n",
       "      <th>bedRoom</th>\n",
       "      <th>bathroom</th>\n",
       "      <th>balcony</th>\n",
       "      <th>floorNum</th>\n",
       "      <th>agePossession</th>\n",
       "      <th>...</th>\n",
       "      <th>Other</th>\n",
       "      <th>servant</th>\n",
       "      <th>Store</th>\n",
       "      <th>Pooja</th>\n",
       "      <th>Study</th>\n",
       "      <th>luxury_score</th>\n",
       "      <th>Furnished</th>\n",
       "      <th>carpet12</th>\n",
       "      <th>Build</th>\n",
       "      <th>Super_area</th>\n",
       "    </tr>\n",
       "  </thead>\n",
       "  <tbody>\n",
       "    <tr>\n",
       "      <th>0</th>\n",
       "      <td>flat</td>\n",
       "      <td>maa bhagwati residency</td>\n",
       "      <td>0.45</td>\n",
       "      <td>4500000</td>\n",
       "      <td>5000</td>\n",
       "      <td>2</td>\n",
       "      <td>2</td>\n",
       "      <td>1</td>\n",
       "      <td>low</td>\n",
       "      <td>moderate</td>\n",
       "      <td>...</td>\n",
       "      <td>0</td>\n",
       "      <td>0</td>\n",
       "      <td>0</td>\n",
       "      <td>0</td>\n",
       "      <td>0</td>\n",
       "      <td>28</td>\n",
       "      <td>1</td>\n",
       "      <td>899.969679</td>\n",
       "      <td>1012.526436</td>\n",
       "      <td>1125.490664</td>\n",
       "    </tr>\n",
       "    <tr>\n",
       "      <th>1</th>\n",
       "      <td>flat</td>\n",
       "      <td>apna enclave</td>\n",
       "      <td>0.50</td>\n",
       "      <td>5000000</td>\n",
       "      <td>7692</td>\n",
       "      <td>2</td>\n",
       "      <td>2</td>\n",
       "      <td>1</td>\n",
       "      <td>low</td>\n",
       "      <td>very old</td>\n",
       "      <td>...</td>\n",
       "      <td>0</td>\n",
       "      <td>0</td>\n",
       "      <td>0</td>\n",
       "      <td>0</td>\n",
       "      <td>0</td>\n",
       "      <td>37</td>\n",
       "      <td>0</td>\n",
       "      <td>650.031921</td>\n",
       "      <td>731.329643</td>\n",
       "      <td>812.921674</td>\n",
       "    </tr>\n",
       "    <tr>\n",
       "      <th>2</th>\n",
       "      <td>flat</td>\n",
       "      <td>tulsiani easy in homes</td>\n",
       "      <td>0.40</td>\n",
       "      <td>4000000</td>\n",
       "      <td>6722</td>\n",
       "      <td>2</td>\n",
       "      <td>2</td>\n",
       "      <td>3</td>\n",
       "      <td>medium</td>\n",
       "      <td>new</td>\n",
       "      <td>...</td>\n",
       "      <td>0</td>\n",
       "      <td>0</td>\n",
       "      <td>0</td>\n",
       "      <td>0</td>\n",
       "      <td>0</td>\n",
       "      <td>36</td>\n",
       "      <td>1</td>\n",
       "      <td>595.028392</td>\n",
       "      <td>669.446973</td>\n",
       "      <td>744.134959</td>\n",
       "    </tr>\n",
       "    <tr>\n",
       "      <th>3</th>\n",
       "      <td>flat</td>\n",
       "      <td>smart world orchard</td>\n",
       "      <td>1.47</td>\n",
       "      <td>14700000</td>\n",
       "      <td>12250</td>\n",
       "      <td>2</td>\n",
       "      <td>2</td>\n",
       "      <td>2</td>\n",
       "      <td>low</td>\n",
       "      <td>new</td>\n",
       "      <td>...</td>\n",
       "      <td>0</td>\n",
       "      <td>0</td>\n",
       "      <td>0</td>\n",
       "      <td>0</td>\n",
       "      <td>0</td>\n",
       "      <td>76</td>\n",
       "      <td>1</td>\n",
       "      <td>1199.959572</td>\n",
       "      <td>1350.035248</td>\n",
       "      <td>1500.654218</td>\n",
       "    </tr>\n",
       "    <tr>\n",
       "      <th>4</th>\n",
       "      <td>flat</td>\n",
       "      <td>parkwood westend</td>\n",
       "      <td>0.70</td>\n",
       "      <td>7000000</td>\n",
       "      <td>5204</td>\n",
       "      <td>2</td>\n",
       "      <td>2</td>\n",
       "      <td>3</td>\n",
       "      <td>low</td>\n",
       "      <td>under construction</td>\n",
       "      <td>...</td>\n",
       "      <td>0</td>\n",
       "      <td>0</td>\n",
       "      <td>0</td>\n",
       "      <td>0</td>\n",
       "      <td>0</td>\n",
       "      <td>0</td>\n",
       "      <td>1</td>\n",
       "      <td>1075.454140</td>\n",
       "      <td>1209.958261</td>\n",
       "      <td>1344.949305</td>\n",
       "    </tr>\n",
       "    <tr>\n",
       "      <th>...</th>\n",
       "      <td>...</td>\n",
       "      <td>...</td>\n",
       "      <td>...</td>\n",
       "      <td>...</td>\n",
       "      <td>...</td>\n",
       "      <td>...</td>\n",
       "      <td>...</td>\n",
       "      <td>...</td>\n",
       "      <td>...</td>\n",
       "      <td>...</td>\n",
       "      <td>...</td>\n",
       "      <td>...</td>\n",
       "      <td>...</td>\n",
       "      <td>...</td>\n",
       "      <td>...</td>\n",
       "      <td>...</td>\n",
       "      <td>...</td>\n",
       "      <td>...</td>\n",
       "      <td>...</td>\n",
       "      <td>...</td>\n",
       "      <td>...</td>\n",
       "    </tr>\n",
       "    <tr>\n",
       "      <th>3326</th>\n",
       "      <td>House</td>\n",
       "      <td>NaN</td>\n",
       "      <td>5.65</td>\n",
       "      <td>56500000</td>\n",
       "      <td>23870</td>\n",
       "      <td>8</td>\n",
       "      <td>6</td>\n",
       "      <td>4</td>\n",
       "      <td>low</td>\n",
       "      <td>old</td>\n",
       "      <td>...</td>\n",
       "      <td>0</td>\n",
       "      <td>1</td>\n",
       "      <td>0</td>\n",
       "      <td>0</td>\n",
       "      <td>0</td>\n",
       "      <td>67</td>\n",
       "      <td>1</td>\n",
       "      <td>1722.224000</td>\n",
       "      <td>1823.404660</td>\n",
       "      <td>2368.058000</td>\n",
       "    </tr>\n",
       "    <tr>\n",
       "      <th>3327</th>\n",
       "      <td>House</td>\n",
       "      <td>NaN</td>\n",
       "      <td>3.55</td>\n",
       "      <td>35500000</td>\n",
       "      <td>24500</td>\n",
       "      <td>5</td>\n",
       "      <td>4</td>\n",
       "      <td>4</td>\n",
       "      <td>low</td>\n",
       "      <td>old</td>\n",
       "      <td>...</td>\n",
       "      <td>0</td>\n",
       "      <td>1</td>\n",
       "      <td>0</td>\n",
       "      <td>0</td>\n",
       "      <td>0</td>\n",
       "      <td>73</td>\n",
       "      <td>1</td>\n",
       "      <td>1056.819273</td>\n",
       "      <td>1118.907405</td>\n",
       "      <td>1453.126500</td>\n",
       "    </tr>\n",
       "    <tr>\n",
       "      <th>3328</th>\n",
       "      <td>House</td>\n",
       "      <td>NaN</td>\n",
       "      <td>3.10</td>\n",
       "      <td>31000000</td>\n",
       "      <td>20026</td>\n",
       "      <td>5</td>\n",
       "      <td>4</td>\n",
       "      <td>4</td>\n",
       "      <td>low</td>\n",
       "      <td>old</td>\n",
       "      <td>...</td>\n",
       "      <td>0</td>\n",
       "      <td>1</td>\n",
       "      <td>1</td>\n",
       "      <td>0</td>\n",
       "      <td>0</td>\n",
       "      <td>59</td>\n",
       "      <td>1</td>\n",
       "      <td>1127.273891</td>\n",
       "      <td>1193.501232</td>\n",
       "      <td>1550.001600</td>\n",
       "    </tr>\n",
       "    <tr>\n",
       "      <th>3329</th>\n",
       "      <td>House</td>\n",
       "      <td>Silverglades Tarudhan Valley Golf Resort</td>\n",
       "      <td>3.05</td>\n",
       "      <td>30500000</td>\n",
       "      <td>12551</td>\n",
       "      <td>3</td>\n",
       "      <td>3</td>\n",
       "      <td>2</td>\n",
       "      <td>low</td>\n",
       "      <td>old</td>\n",
       "      <td>...</td>\n",
       "      <td>1</td>\n",
       "      <td>1</td>\n",
       "      <td>0</td>\n",
       "      <td>1</td>\n",
       "      <td>1</td>\n",
       "      <td>160</td>\n",
       "      <td>1</td>\n",
       "      <td>1769.193745</td>\n",
       "      <td>1873.133878</td>\n",
       "      <td>2432.641400</td>\n",
       "    </tr>\n",
       "    <tr>\n",
       "      <th>3330</th>\n",
       "      <td>House</td>\n",
       "      <td>Silverglades Tarudhan Valley Golf Resort</td>\n",
       "      <td>3.60</td>\n",
       "      <td>36000000</td>\n",
       "      <td>14815</td>\n",
       "      <td>3</td>\n",
       "      <td>3</td>\n",
       "      <td>2</td>\n",
       "      <td>low</td>\n",
       "      <td>old</td>\n",
       "      <td>...</td>\n",
       "      <td>1</td>\n",
       "      <td>1</td>\n",
       "      <td>0</td>\n",
       "      <td>1</td>\n",
       "      <td>1</td>\n",
       "      <td>160</td>\n",
       "      <td>1</td>\n",
       "      <td>1769.193745</td>\n",
       "      <td>1873.133878</td>\n",
       "      <td>2432.641400</td>\n",
       "    </tr>\n",
       "  </tbody>\n",
       "</table>\n",
       "<p>3331 rows × 22 columns</p>\n",
       "</div>"
      ],
      "text/plain": [
       "     property_type                                   society  price    price1  \\\n",
       "0             flat                    maa bhagwati residency   0.45   4500000   \n",
       "1             flat                              apna enclave   0.50   5000000   \n",
       "2             flat                    tulsiani easy in homes   0.40   4000000   \n",
       "3             flat                       smart world orchard   1.47  14700000   \n",
       "4             flat                          parkwood westend   0.70   7000000   \n",
       "...            ...                                       ...    ...       ...   \n",
       "3326         House                                       NaN   5.65  56500000   \n",
       "3327         House                                       NaN   3.55  35500000   \n",
       "3328         House                                       NaN   3.10  31000000   \n",
       "3329         House  Silverglades Tarudhan Valley Golf Resort   3.05  30500000   \n",
       "3330         House  Silverglades Tarudhan Valley Golf Resort   3.60  36000000   \n",
       "\n",
       "      price_per_sqft  bedRoom  bathroom  balcony floorNum       agePossession  \\\n",
       "0               5000        2         2        1      low            moderate   \n",
       "1               7692        2         2        1      low            very old   \n",
       "2               6722        2         2        3   medium                 new   \n",
       "3              12250        2         2        2      low                 new   \n",
       "4               5204        2         2        3      low  under construction   \n",
       "...              ...      ...       ...      ...      ...                 ...   \n",
       "3326           23870        8         6        4      low                 old   \n",
       "3327           24500        5         4        4      low                 old   \n",
       "3328           20026        5         4        4      low                 old   \n",
       "3329           12551        3         3        2      low                 old   \n",
       "3330           14815        3         3        2      low                 old   \n",
       "\n",
       "      ...  Other servant  Store  Pooja  Study  luxury_score  Furnished  \\\n",
       "0     ...      0       0      0      0      0            28          1   \n",
       "1     ...      0       0      0      0      0            37          0   \n",
       "2     ...      0       0      0      0      0            36          1   \n",
       "3     ...      0       0      0      0      0            76          1   \n",
       "4     ...      0       0      0      0      0             0          1   \n",
       "...   ...    ...     ...    ...    ...    ...           ...        ...   \n",
       "3326  ...      0       1      0      0      0            67          1   \n",
       "3327  ...      0       1      0      0      0            73          1   \n",
       "3328  ...      0       1      1      0      0            59          1   \n",
       "3329  ...      1       1      0      1      1           160          1   \n",
       "3330  ...      1       1      0      1      1           160          1   \n",
       "\n",
       "         carpet12        Build   Super_area  \n",
       "0      899.969679  1012.526436  1125.490664  \n",
       "1      650.031921   731.329643   812.921674  \n",
       "2      595.028392   669.446973   744.134959  \n",
       "3     1199.959572  1350.035248  1500.654218  \n",
       "4     1075.454140  1209.958261  1344.949305  \n",
       "...           ...          ...          ...  \n",
       "3326  1722.224000  1823.404660  2368.058000  \n",
       "3327  1056.819273  1118.907405  1453.126500  \n",
       "3328  1127.273891  1193.501232  1550.001600  \n",
       "3329  1769.193745  1873.133878  2432.641400  \n",
       "3330  1769.193745  1873.133878  2432.641400  \n",
       "\n",
       "[3331 rows x 22 columns]"
      ]
     },
     "execution_count": 145,
     "metadata": {},
     "output_type": "execute_result"
    }
   ],
   "source": [
    "file2"
   ]
  },
  {
   "cell_type": "markdown",
   "id": "a272e3e7",
   "metadata": {},
   "source": [
    "# luxury_score"
   ]
  },
  {
   "cell_type": "code",
   "execution_count": 146,
   "id": "527da791",
   "metadata": {},
   "outputs": [],
   "source": [
    "luxury_score = []    # luxury_score.append"
   ]
  },
  {
   "cell_type": "code",
   "execution_count": 147,
   "id": "eee8b9ea",
   "metadata": {},
   "outputs": [],
   "source": [
    "for i in file2['luxury_score']:\n",
    "    if i <= 50:\n",
    "        luxury_score.append('low')\n",
    "    elif i < 50 and i <= 120:\n",
    "        luxury_score.append('medium')\n",
    "    else:\n",
    "        luxury_score.append('high')"
   ]
  },
  {
   "cell_type": "code",
   "execution_count": 148,
   "id": "c3836399",
   "metadata": {},
   "outputs": [],
   "source": [
    "file2['luxury_score'] = luxury_score"
   ]
  },
  {
   "cell_type": "markdown",
   "id": "e5b01bad",
   "metadata": {},
   "source": [
    "# Furnished"
   ]
  },
  {
   "cell_type": "code",
   "execution_count": 149,
   "id": "97f21b02",
   "metadata": {},
   "outputs": [],
   "source": [
    "file2['Furnished'] = file2['Furnished'].astype(str)\n",
    "\n",
    "# Replace values using .str.replace()\n",
    "file2['Furnished'] = file2['Furnished'].str.replace('0', 'unfurnished')\n",
    "file2['Furnished'] = file2['Furnished'].str.replace('1', 'semi-furnished')\n",
    "file2['Furnished'] = file2['Furnished'].str.replace('2', 'fully-furnished')"
   ]
  },
  {
   "cell_type": "code",
   "execution_count": 150,
   "id": "8701aad4",
   "metadata": {},
   "outputs": [
    {
     "data": {
      "text/html": [
       "<div>\n",
       "<style scoped>\n",
       "    .dataframe tbody tr th:only-of-type {\n",
       "        vertical-align: middle;\n",
       "    }\n",
       "\n",
       "    .dataframe tbody tr th {\n",
       "        vertical-align: top;\n",
       "    }\n",
       "\n",
       "    .dataframe thead th {\n",
       "        text-align: right;\n",
       "    }\n",
       "</style>\n",
       "<table border=\"1\" class=\"dataframe\">\n",
       "  <thead>\n",
       "    <tr style=\"text-align: right;\">\n",
       "      <th></th>\n",
       "      <th>property_type</th>\n",
       "      <th>society</th>\n",
       "      <th>price</th>\n",
       "      <th>price1</th>\n",
       "      <th>price_per_sqft</th>\n",
       "      <th>bedRoom</th>\n",
       "      <th>bathroom</th>\n",
       "      <th>balcony</th>\n",
       "      <th>floorNum</th>\n",
       "      <th>agePossession</th>\n",
       "      <th>...</th>\n",
       "      <th>Other</th>\n",
       "      <th>servant</th>\n",
       "      <th>Store</th>\n",
       "      <th>Pooja</th>\n",
       "      <th>Study</th>\n",
       "      <th>luxury_score</th>\n",
       "      <th>Furnished</th>\n",
       "      <th>carpet12</th>\n",
       "      <th>Build</th>\n",
       "      <th>Super_area</th>\n",
       "    </tr>\n",
       "  </thead>\n",
       "  <tbody>\n",
       "    <tr>\n",
       "      <th>0</th>\n",
       "      <td>flat</td>\n",
       "      <td>maa bhagwati residency</td>\n",
       "      <td>0.45</td>\n",
       "      <td>4500000</td>\n",
       "      <td>5000</td>\n",
       "      <td>2</td>\n",
       "      <td>2</td>\n",
       "      <td>1</td>\n",
       "      <td>low</td>\n",
       "      <td>moderate</td>\n",
       "      <td>...</td>\n",
       "      <td>0</td>\n",
       "      <td>0</td>\n",
       "      <td>0</td>\n",
       "      <td>0</td>\n",
       "      <td>0</td>\n",
       "      <td>low</td>\n",
       "      <td>semi-furnished</td>\n",
       "      <td>899.969679</td>\n",
       "      <td>1012.526436</td>\n",
       "      <td>1125.490664</td>\n",
       "    </tr>\n",
       "    <tr>\n",
       "      <th>1</th>\n",
       "      <td>flat</td>\n",
       "      <td>apna enclave</td>\n",
       "      <td>0.50</td>\n",
       "      <td>5000000</td>\n",
       "      <td>7692</td>\n",
       "      <td>2</td>\n",
       "      <td>2</td>\n",
       "      <td>1</td>\n",
       "      <td>low</td>\n",
       "      <td>very old</td>\n",
       "      <td>...</td>\n",
       "      <td>0</td>\n",
       "      <td>0</td>\n",
       "      <td>0</td>\n",
       "      <td>0</td>\n",
       "      <td>0</td>\n",
       "      <td>low</td>\n",
       "      <td>unfurnished</td>\n",
       "      <td>650.031921</td>\n",
       "      <td>731.329643</td>\n",
       "      <td>812.921674</td>\n",
       "    </tr>\n",
       "    <tr>\n",
       "      <th>2</th>\n",
       "      <td>flat</td>\n",
       "      <td>tulsiani easy in homes</td>\n",
       "      <td>0.40</td>\n",
       "      <td>4000000</td>\n",
       "      <td>6722</td>\n",
       "      <td>2</td>\n",
       "      <td>2</td>\n",
       "      <td>3</td>\n",
       "      <td>medium</td>\n",
       "      <td>new</td>\n",
       "      <td>...</td>\n",
       "      <td>0</td>\n",
       "      <td>0</td>\n",
       "      <td>0</td>\n",
       "      <td>0</td>\n",
       "      <td>0</td>\n",
       "      <td>low</td>\n",
       "      <td>semi-furnished</td>\n",
       "      <td>595.028392</td>\n",
       "      <td>669.446973</td>\n",
       "      <td>744.134959</td>\n",
       "    </tr>\n",
       "    <tr>\n",
       "      <th>3</th>\n",
       "      <td>flat</td>\n",
       "      <td>smart world orchard</td>\n",
       "      <td>1.47</td>\n",
       "      <td>14700000</td>\n",
       "      <td>12250</td>\n",
       "      <td>2</td>\n",
       "      <td>2</td>\n",
       "      <td>2</td>\n",
       "      <td>low</td>\n",
       "      <td>new</td>\n",
       "      <td>...</td>\n",
       "      <td>0</td>\n",
       "      <td>0</td>\n",
       "      <td>0</td>\n",
       "      <td>0</td>\n",
       "      <td>0</td>\n",
       "      <td>high</td>\n",
       "      <td>semi-furnished</td>\n",
       "      <td>1199.959572</td>\n",
       "      <td>1350.035248</td>\n",
       "      <td>1500.654218</td>\n",
       "    </tr>\n",
       "    <tr>\n",
       "      <th>4</th>\n",
       "      <td>flat</td>\n",
       "      <td>parkwood westend</td>\n",
       "      <td>0.70</td>\n",
       "      <td>7000000</td>\n",
       "      <td>5204</td>\n",
       "      <td>2</td>\n",
       "      <td>2</td>\n",
       "      <td>3</td>\n",
       "      <td>low</td>\n",
       "      <td>under construction</td>\n",
       "      <td>...</td>\n",
       "      <td>0</td>\n",
       "      <td>0</td>\n",
       "      <td>0</td>\n",
       "      <td>0</td>\n",
       "      <td>0</td>\n",
       "      <td>low</td>\n",
       "      <td>semi-furnished</td>\n",
       "      <td>1075.454140</td>\n",
       "      <td>1209.958261</td>\n",
       "      <td>1344.949305</td>\n",
       "    </tr>\n",
       "    <tr>\n",
       "      <th>...</th>\n",
       "      <td>...</td>\n",
       "      <td>...</td>\n",
       "      <td>...</td>\n",
       "      <td>...</td>\n",
       "      <td>...</td>\n",
       "      <td>...</td>\n",
       "      <td>...</td>\n",
       "      <td>...</td>\n",
       "      <td>...</td>\n",
       "      <td>...</td>\n",
       "      <td>...</td>\n",
       "      <td>...</td>\n",
       "      <td>...</td>\n",
       "      <td>...</td>\n",
       "      <td>...</td>\n",
       "      <td>...</td>\n",
       "      <td>...</td>\n",
       "      <td>...</td>\n",
       "      <td>...</td>\n",
       "      <td>...</td>\n",
       "      <td>...</td>\n",
       "    </tr>\n",
       "    <tr>\n",
       "      <th>3326</th>\n",
       "      <td>House</td>\n",
       "      <td>NaN</td>\n",
       "      <td>5.65</td>\n",
       "      <td>56500000</td>\n",
       "      <td>23870</td>\n",
       "      <td>8</td>\n",
       "      <td>6</td>\n",
       "      <td>4</td>\n",
       "      <td>low</td>\n",
       "      <td>old</td>\n",
       "      <td>...</td>\n",
       "      <td>0</td>\n",
       "      <td>1</td>\n",
       "      <td>0</td>\n",
       "      <td>0</td>\n",
       "      <td>0</td>\n",
       "      <td>high</td>\n",
       "      <td>semi-furnished</td>\n",
       "      <td>1722.224000</td>\n",
       "      <td>1823.404660</td>\n",
       "      <td>2368.058000</td>\n",
       "    </tr>\n",
       "    <tr>\n",
       "      <th>3327</th>\n",
       "      <td>House</td>\n",
       "      <td>NaN</td>\n",
       "      <td>3.55</td>\n",
       "      <td>35500000</td>\n",
       "      <td>24500</td>\n",
       "      <td>5</td>\n",
       "      <td>4</td>\n",
       "      <td>4</td>\n",
       "      <td>low</td>\n",
       "      <td>old</td>\n",
       "      <td>...</td>\n",
       "      <td>0</td>\n",
       "      <td>1</td>\n",
       "      <td>0</td>\n",
       "      <td>0</td>\n",
       "      <td>0</td>\n",
       "      <td>high</td>\n",
       "      <td>semi-furnished</td>\n",
       "      <td>1056.819273</td>\n",
       "      <td>1118.907405</td>\n",
       "      <td>1453.126500</td>\n",
       "    </tr>\n",
       "    <tr>\n",
       "      <th>3328</th>\n",
       "      <td>House</td>\n",
       "      <td>NaN</td>\n",
       "      <td>3.10</td>\n",
       "      <td>31000000</td>\n",
       "      <td>20026</td>\n",
       "      <td>5</td>\n",
       "      <td>4</td>\n",
       "      <td>4</td>\n",
       "      <td>low</td>\n",
       "      <td>old</td>\n",
       "      <td>...</td>\n",
       "      <td>0</td>\n",
       "      <td>1</td>\n",
       "      <td>1</td>\n",
       "      <td>0</td>\n",
       "      <td>0</td>\n",
       "      <td>high</td>\n",
       "      <td>semi-furnished</td>\n",
       "      <td>1127.273891</td>\n",
       "      <td>1193.501232</td>\n",
       "      <td>1550.001600</td>\n",
       "    </tr>\n",
       "    <tr>\n",
       "      <th>3329</th>\n",
       "      <td>House</td>\n",
       "      <td>Silverglades Tarudhan Valley Golf Resort</td>\n",
       "      <td>3.05</td>\n",
       "      <td>30500000</td>\n",
       "      <td>12551</td>\n",
       "      <td>3</td>\n",
       "      <td>3</td>\n",
       "      <td>2</td>\n",
       "      <td>low</td>\n",
       "      <td>old</td>\n",
       "      <td>...</td>\n",
       "      <td>1</td>\n",
       "      <td>1</td>\n",
       "      <td>0</td>\n",
       "      <td>1</td>\n",
       "      <td>1</td>\n",
       "      <td>high</td>\n",
       "      <td>semi-furnished</td>\n",
       "      <td>1769.193745</td>\n",
       "      <td>1873.133878</td>\n",
       "      <td>2432.641400</td>\n",
       "    </tr>\n",
       "    <tr>\n",
       "      <th>3330</th>\n",
       "      <td>House</td>\n",
       "      <td>Silverglades Tarudhan Valley Golf Resort</td>\n",
       "      <td>3.60</td>\n",
       "      <td>36000000</td>\n",
       "      <td>14815</td>\n",
       "      <td>3</td>\n",
       "      <td>3</td>\n",
       "      <td>2</td>\n",
       "      <td>low</td>\n",
       "      <td>old</td>\n",
       "      <td>...</td>\n",
       "      <td>1</td>\n",
       "      <td>1</td>\n",
       "      <td>0</td>\n",
       "      <td>1</td>\n",
       "      <td>1</td>\n",
       "      <td>high</td>\n",
       "      <td>semi-furnished</td>\n",
       "      <td>1769.193745</td>\n",
       "      <td>1873.133878</td>\n",
       "      <td>2432.641400</td>\n",
       "    </tr>\n",
       "  </tbody>\n",
       "</table>\n",
       "<p>3331 rows × 22 columns</p>\n",
       "</div>"
      ],
      "text/plain": [
       "     property_type                                   society  price    price1  \\\n",
       "0             flat                    maa bhagwati residency   0.45   4500000   \n",
       "1             flat                              apna enclave   0.50   5000000   \n",
       "2             flat                    tulsiani easy in homes   0.40   4000000   \n",
       "3             flat                       smart world orchard   1.47  14700000   \n",
       "4             flat                          parkwood westend   0.70   7000000   \n",
       "...            ...                                       ...    ...       ...   \n",
       "3326         House                                       NaN   5.65  56500000   \n",
       "3327         House                                       NaN   3.55  35500000   \n",
       "3328         House                                       NaN   3.10  31000000   \n",
       "3329         House  Silverglades Tarudhan Valley Golf Resort   3.05  30500000   \n",
       "3330         House  Silverglades Tarudhan Valley Golf Resort   3.60  36000000   \n",
       "\n",
       "      price_per_sqft  bedRoom  bathroom  balcony floorNum       agePossession  \\\n",
       "0               5000        2         2        1      low            moderate   \n",
       "1               7692        2         2        1      low            very old   \n",
       "2               6722        2         2        3   medium                 new   \n",
       "3              12250        2         2        2      low                 new   \n",
       "4               5204        2         2        3      low  under construction   \n",
       "...              ...      ...       ...      ...      ...                 ...   \n",
       "3326           23870        8         6        4      low                 old   \n",
       "3327           24500        5         4        4      low                 old   \n",
       "3328           20026        5         4        4      low                 old   \n",
       "3329           12551        3         3        2      low                 old   \n",
       "3330           14815        3         3        2      low                 old   \n",
       "\n",
       "      ...  Other servant  Store  Pooja  Study  luxury_score       Furnished  \\\n",
       "0     ...      0       0      0      0      0           low  semi-furnished   \n",
       "1     ...      0       0      0      0      0           low     unfurnished   \n",
       "2     ...      0       0      0      0      0           low  semi-furnished   \n",
       "3     ...      0       0      0      0      0          high  semi-furnished   \n",
       "4     ...      0       0      0      0      0           low  semi-furnished   \n",
       "...   ...    ...     ...    ...    ...    ...           ...             ...   \n",
       "3326  ...      0       1      0      0      0          high  semi-furnished   \n",
       "3327  ...      0       1      0      0      0          high  semi-furnished   \n",
       "3328  ...      0       1      1      0      0          high  semi-furnished   \n",
       "3329  ...      1       1      0      1      1          high  semi-furnished   \n",
       "3330  ...      1       1      0      1      1          high  semi-furnished   \n",
       "\n",
       "         carpet12        Build   Super_area  \n",
       "0      899.969679  1012.526436  1125.490664  \n",
       "1      650.031921   731.329643   812.921674  \n",
       "2      595.028392   669.446973   744.134959  \n",
       "3     1199.959572  1350.035248  1500.654218  \n",
       "4     1075.454140  1209.958261  1344.949305  \n",
       "...           ...          ...          ...  \n",
       "3326  1722.224000  1823.404660  2368.058000  \n",
       "3327  1056.819273  1118.907405  1453.126500  \n",
       "3328  1127.273891  1193.501232  1550.001600  \n",
       "3329  1769.193745  1873.133878  2432.641400  \n",
       "3330  1769.193745  1873.133878  2432.641400  \n",
       "\n",
       "[3331 rows x 22 columns]"
      ]
     },
     "execution_count": 150,
     "metadata": {},
     "output_type": "execute_result"
    }
   ],
   "source": [
    "file2"
   ]
  },
  {
   "cell_type": "code",
   "execution_count": null,
   "id": "ccfaa949",
   "metadata": {},
   "outputs": [],
   "source": []
  },
  {
   "cell_type": "markdown",
   "id": "a97d943d",
   "metadata": {},
   "source": [
    "# Splitting point"
   ]
  },
  {
   "cell_type": "code",
   "execution_count": 152,
   "id": "cc07fc80",
   "metadata": {},
   "outputs": [],
   "source": [
    "file3 = file2.drop(['price'], axis=1)"
   ]
  },
  {
   "cell_type": "code",
   "execution_count": 153,
   "id": "372d8994",
   "metadata": {},
   "outputs": [],
   "source": [
    "x = file3.drop(['price1'], axis=1)\n",
    "y = file3['price1']"
   ]
  },
  {
   "cell_type": "code",
   "execution_count": null,
   "id": "231a9964",
   "metadata": {},
   "outputs": [],
   "source": []
  },
  {
   "cell_type": "markdown",
   "id": "8f9a238e",
   "metadata": {},
   "source": [
    "# Assumption"
   ]
  },
  {
   "cell_type": "markdown",
   "id": "dd619fba",
   "metadata": {},
   "source": [
    "# Multicollinearity"
   ]
  },
  {
   "cell_type": "code",
   "execution_count": 154,
   "id": "8fa716a1",
   "metadata": {},
   "outputs": [],
   "source": [
    "num = [i for i in x.columns if x[i].dtype !='object']\n",
    "num1 = x[num]"
   ]
  },
  {
   "cell_type": "code",
   "execution_count": 155,
   "id": "d2a1dc3d",
   "metadata": {},
   "outputs": [
    {
     "data": {
      "text/plain": [
       "<Axes: >"
      ]
     },
     "execution_count": 155,
     "metadata": {},
     "output_type": "execute_result"
    },
    {
     "data": {
      "image/png": "[encoded data removed]",
      "text/plain": [
       "<Figure size 1200x800 with 2 Axes>"
      ]
     },
     "metadata": {},
     "output_type": "display_data"
    }
   ],
   "source": [
    "plt.figure(figsize=(12,8))\n",
    "sns.heatmap(num1.corr(), annot=True)"
   ]
  },
  {
   "cell_type": "raw",
   "id": "076d9017",
   "metadata": {},
   "source": [
    "# there is collinarity problem in data so to statisfy the condition of linear model "
   ]
  },
  {
   "cell_type": "markdown",
   "id": "8fc03ac3",
   "metadata": {},
   "source": [
    "# Linear relation"
   ]
  },
  {
   "cell_type": "code",
   "execution_count": 156,
   "id": "f627b661",
   "metadata": {},
   "outputs": [
    {
     "data": {
      "text/plain": [
       "Index(['price_per_sqft', 'bedRoom', 'bathroom', 'balcony', 'BHK', 'Other',\n",
       "       'servant', 'Store', 'Pooja', 'Study', 'carpet12', 'Build',\n",
       "       'Super_area'],\n",
       "      dtype='object')"
      ]
     },
     "execution_count": 156,
     "metadata": {},
     "output_type": "execute_result"
    }
   ],
   "source": [
    "num1.columns"
   ]
  },
  {
   "cell_type": "markdown",
   "id": "ff8c0b39",
   "metadata": {},
   "source": [
    "# price_per_sqft"
   ]
  },
  {
   "cell_type": "code",
   "execution_count": 157,
   "id": "c4464f93",
   "metadata": {
    "scrolled": false
   },
   "outputs": [
    {
     "data": {
      "text/plain": [
       "<Axes: xlabel='price_per_sqft', ylabel='price1'>"
      ]
     },
     "execution_count": 157,
     "metadata": {},
     "output_type": "execute_result"
    },
    {
     "data": {
      "image/png": "[encoded data removed]",
      "text/plain": [
       "<Figure size 640x480 with 1 Axes>"
      ]
     },
     "metadata": {},
     "output_type": "display_data"
    }
   ],
   "source": [
    "sns.scatterplot(data=num1, x='price_per_sqft', y=y)"
   ]
  },
  {
   "cell_type": "code",
   "execution_count": null,
   "id": "7e8ab492",
   "metadata": {},
   "outputs": [],
   "source": []
  },
  {
   "cell_type": "markdown",
   "id": "0c20bf88",
   "metadata": {},
   "source": [
    "# carpet12"
   ]
  },
  {
   "cell_type": "code",
   "execution_count": 158,
   "id": "3845722b",
   "metadata": {},
   "outputs": [
    {
     "name": "stderr",
     "output_type": "stream",
     "text": [
      "C:\\Users\\ravin\\anaconda3\\Lib\\site-packages\\seaborn\\axisgrid.py:118: UserWarning: The figure layout has changed to tight\n",
      "  self._figure.tight_layout(*args, **kwargs)\n"
     ]
    },
    {
     "data": {
      "text/plain": [
       "<seaborn.axisgrid.FacetGrid at 0x23e424f2010>"
      ]
     },
     "execution_count": 158,
     "metadata": {},
     "output_type": "execute_result"
    },
    {
     "data": {
      "image/png": "[encoded data removed]",
      "text/plain": [
       "<Figure size 500x500 with 1 Axes>"
      ]
     },
     "metadata": {},
     "output_type": "display_data"
    }
   ],
   "source": [
    "\n",
    "sns.relplot(data=num1, x='carpet12', y=y)"
   ]
  },
  {
   "cell_type": "code",
   "execution_count": null,
   "id": "0973d73e",
   "metadata": {},
   "outputs": [],
   "source": []
  },
  {
   "cell_type": "markdown",
   "id": "cf88e82e",
   "metadata": {},
   "source": [
    "# Build"
   ]
  },
  {
   "cell_type": "code",
   "execution_count": 159,
   "id": "596bbfc7",
   "metadata": {},
   "outputs": [
    {
     "name": "stderr",
     "output_type": "stream",
     "text": [
      "C:\\Users\\ravin\\anaconda3\\Lib\\site-packages\\seaborn\\axisgrid.py:118: UserWarning: The figure layout has changed to tight\n",
      "  self._figure.tight_layout(*args, **kwargs)\n"
     ]
    },
    {
     "data": {
      "text/plain": [
       "<seaborn.axisgrid.FacetGrid at 0x23e42514c90>"
      ]
     },
     "execution_count": 159,
     "metadata": {},
     "output_type": "execute_result"
    },
    {
     "data": {
      "image/png": "[encoded data removed]",
      "text/plain": [
       "<Figure size 500x500 with 1 Axes>"
      ]
     },
     "metadata": {},
     "output_type": "display_data"
    }
   ],
   "source": [
    "sns.relplot(data=num1, x='Build', y=y)"
   ]
  },
  {
   "cell_type": "code",
   "execution_count": null,
   "id": "2ed62266",
   "metadata": {},
   "outputs": [],
   "source": []
  },
  {
   "cell_type": "markdown",
   "id": "14a99700",
   "metadata": {},
   "source": [
    "# Super_area"
   ]
  },
  {
   "cell_type": "code",
   "execution_count": 160,
   "id": "b138061a",
   "metadata": {},
   "outputs": [
    {
     "data": {
      "text/plain": [
       "<Axes: xlabel='price1', ylabel='Super_area'>"
      ]
     },
     "execution_count": 160,
     "metadata": {},
     "output_type": "execute_result"
    },
    {
     "data": {
      "image/png": "[encoded data removed]",
      "text/plain": [
       "<Figure size 640x480 with 1 Axes>"
      ]
     },
     "metadata": {},
     "output_type": "display_data"
    }
   ],
   "source": [
    "sns.scatterplot(data=num1, y='Super_area', x=y)"
   ]
  },
  {
   "cell_type": "markdown",
   "id": "468d72c7",
   "metadata": {},
   "source": [
    "# Distribution of data"
   ]
  },
  {
   "cell_type": "code",
   "execution_count": 161,
   "id": "13574806",
   "metadata": {},
   "outputs": [
    {
     "data": {
      "text/plain": [
       "Index(['property_type', 'society', 'price_per_sqft', 'bedRoom', 'bathroom',\n",
       "       'balcony', 'floorNum', 'agePossession', 'BHK', 'Location', 'Other',\n",
       "       'servant', 'Store', 'Pooja', 'Study', 'luxury_score', 'Furnished',\n",
       "       'carpet12', 'Build', 'Super_area'],\n",
       "      dtype='object')"
      ]
     },
     "execution_count": 161,
     "metadata": {},
     "output_type": "execute_result"
    }
   ],
   "source": [
    "x.columns"
   ]
  },
  {
   "cell_type": "markdown",
   "id": "2336f645",
   "metadata": {},
   "source": [
    "# Super_area"
   ]
  },
  {
   "cell_type": "code",
   "execution_count": 162,
   "id": "555edcd9",
   "metadata": {},
   "outputs": [
    {
     "data": {
      "text/plain": [
       "<Axes: ylabel='Frequency'>"
      ]
     },
     "execution_count": 162,
     "metadata": {},
     "output_type": "execute_result"
    },
    {
     "data": {
      "image/png": "[encoded data removed]",
      "text/plain": [
       "<Figure size 640x480 with 1 Axes>"
      ]
     },
     "metadata": {},
     "output_type": "display_data"
    }
   ],
   "source": [
    "x['Super_area'].value_counts().plot(kind='hist')"
   ]
  },
  {
   "cell_type": "code",
   "execution_count": 163,
   "id": "de0100e0",
   "metadata": {},
   "outputs": [
    {
     "data": {
      "text/plain": [
       "<Axes: xlabel='Super_area', ylabel='Density'>"
      ]
     },
     "execution_count": 163,
     "metadata": {},
     "output_type": "execute_result"
    },
    {
     "data": {
      "image/png": "[encoded data removed]",
      "text/plain": [
       "<Figure size 640x480 with 1 Axes>"
      ]
     },
     "metadata": {},
     "output_type": "display_data"
    }
   ],
   "source": [
    "sns.kdeplot(data = x, x='Super_area')"
   ]
  },
  {
   "cell_type": "code",
   "execution_count": null,
   "id": "ea3b42a0",
   "metadata": {},
   "outputs": [],
   "source": []
  },
  {
   "cell_type": "markdown",
   "id": "a63a5afe",
   "metadata": {},
   "source": [
    "# Build"
   ]
  },
  {
   "cell_type": "code",
   "execution_count": 164,
   "id": "113fb6b6",
   "metadata": {},
   "outputs": [
    {
     "data": {
      "text/plain": [
       "<Axes: ylabel='Frequency'>"
      ]
     },
     "execution_count": 164,
     "metadata": {},
     "output_type": "execute_result"
    },
    {
     "data": {
      "image/png": "[encoded data removed]",
      "text/plain": [
       "<Figure size 640x480 with 1 Axes>"
      ]
     },
     "metadata": {},
     "output_type": "display_data"
    }
   ],
   "source": [
    "x['Build'].value_counts().plot(kind='hist')"
   ]
  },
  {
   "cell_type": "code",
   "execution_count": null,
   "id": "3e37e929",
   "metadata": {},
   "outputs": [],
   "source": []
  },
  {
   "cell_type": "markdown",
   "id": "512c1393",
   "metadata": {},
   "source": [
    "# Encoding "
   ]
  },
  {
   "cell_type": "code",
   "execution_count": 165,
   "id": "a1955834",
   "metadata": {},
   "outputs": [],
   "source": [
    "from sklearn.preprocessing import OneHotEncoder\n",
    "import seaborn as sns\n",
    "import matplotlib.pyplot as plt\n",
    "%matplotlib inline"
   ]
  },
  {
   "cell_type": "code",
   "execution_count": 166,
   "id": "cf59f187",
   "metadata": {},
   "outputs": [],
   "source": [
    "cate = [i for i in x.columns if x[i].dtype =='object']\n",
    "categorical = x[cate]\n",
    "\n",
    "num = [i for i in x.columns if x[i].dtype !='object']\n",
    "numerical = x[num]"
   ]
  },
  {
   "cell_type": "code",
   "execution_count": 167,
   "id": "0ca1e58e",
   "metadata": {
    "scrolled": true
   },
   "outputs": [
    {
     "data": {
      "text/html": [
       "<div>\n",
       "<style scoped>\n",
       "    .dataframe tbody tr th:only-of-type {\n",
       "        vertical-align: middle;\n",
       "    }\n",
       "\n",
       "    .dataframe tbody tr th {\n",
       "        vertical-align: top;\n",
       "    }\n",
       "\n",
       "    .dataframe thead th {\n",
       "        text-align: right;\n",
       "    }\n",
       "</style>\n",
       "<table border=\"1\" class=\"dataframe\">\n",
       "  <thead>\n",
       "    <tr style=\"text-align: right;\">\n",
       "      <th></th>\n",
       "      <th>property_type</th>\n",
       "      <th>society</th>\n",
       "      <th>floorNum</th>\n",
       "      <th>agePossession</th>\n",
       "      <th>Location</th>\n",
       "      <th>luxury_score</th>\n",
       "      <th>Furnished</th>\n",
       "    </tr>\n",
       "  </thead>\n",
       "  <tbody>\n",
       "    <tr>\n",
       "      <th>0</th>\n",
       "      <td>flat</td>\n",
       "      <td>maa bhagwati residency</td>\n",
       "      <td>low</td>\n",
       "      <td>moderate</td>\n",
       "      <td>Krishna Colony</td>\n",
       "      <td>low</td>\n",
       "      <td>semi-furnished</td>\n",
       "    </tr>\n",
       "    <tr>\n",
       "      <th>1</th>\n",
       "      <td>flat</td>\n",
       "      <td>apna enclave</td>\n",
       "      <td>low</td>\n",
       "      <td>very old</td>\n",
       "      <td>Ashok Vihar</td>\n",
       "      <td>low</td>\n",
       "      <td>unfurnished</td>\n",
       "    </tr>\n",
       "    <tr>\n",
       "      <th>2</th>\n",
       "      <td>flat</td>\n",
       "      <td>tulsiani easy in homes</td>\n",
       "      <td>medium</td>\n",
       "      <td>new</td>\n",
       "      <td>Sohna</td>\n",
       "      <td>low</td>\n",
       "      <td>semi-furnished</td>\n",
       "    </tr>\n",
       "    <tr>\n",
       "      <th>3</th>\n",
       "      <td>flat</td>\n",
       "      <td>smart world orchard</td>\n",
       "      <td>low</td>\n",
       "      <td>new</td>\n",
       "      <td>Sector 61</td>\n",
       "      <td>high</td>\n",
       "      <td>semi-furnished</td>\n",
       "    </tr>\n",
       "    <tr>\n",
       "      <th>4</th>\n",
       "      <td>flat</td>\n",
       "      <td>parkwood westend</td>\n",
       "      <td>low</td>\n",
       "      <td>under construction</td>\n",
       "      <td>Sector 92</td>\n",
       "      <td>low</td>\n",
       "      <td>semi-furnished</td>\n",
       "    </tr>\n",
       "  </tbody>\n",
       "</table>\n",
       "</div>"
      ],
      "text/plain": [
       "  property_type                 society floorNum       agePossession  \\\n",
       "0          flat  maa bhagwati residency      low            moderate   \n",
       "1          flat            apna enclave      low            very old   \n",
       "2          flat  tulsiani easy in homes   medium                 new   \n",
       "3          flat     smart world orchard      low                 new   \n",
       "4          flat        parkwood westend      low  under construction   \n",
       "\n",
       "         Location luxury_score       Furnished  \n",
       "0  Krishna Colony          low  semi-furnished  \n",
       "1     Ashok Vihar          low     unfurnished  \n",
       "2           Sohna          low  semi-furnished  \n",
       "3       Sector 61         high  semi-furnished  \n",
       "4       Sector 92          low  semi-furnished  "
      ]
     },
     "execution_count": 167,
     "metadata": {},
     "output_type": "execute_result"
    }
   ],
   "source": [
    "categorical.head()"
   ]
  },
  {
   "cell_type": "code",
   "execution_count": 168,
   "id": "a64599b2",
   "metadata": {},
   "outputs": [],
   "source": [
    "numerical1 = numerical.drop(['bedRoom','Build','Super_area'], axis=1)"
   ]
  },
  {
   "cell_type": "code",
   "execution_count": null,
   "id": "7a3b5f0a",
   "metadata": {},
   "outputs": [],
   "source": []
  },
  {
   "cell_type": "markdown",
   "id": "f1169725",
   "metadata": {},
   "source": [
    "# OneHotEncoding"
   ]
  },
  {
   "cell_type": "code",
   "execution_count": 169,
   "id": "39a60943",
   "metadata": {},
   "outputs": [],
   "source": [
    "categorical1 = categorical.drop(['society','Location'], axis=1)"
   ]
  },
  {
   "cell_type": "code",
   "execution_count": 170,
   "id": "00e79fda",
   "metadata": {},
   "outputs": [],
   "source": [
    "ohe = OneHotEncoder(drop='first', sparse=False)"
   ]
  },
  {
   "cell_type": "code",
   "execution_count": 171,
   "id": "fb892061",
   "metadata": {},
   "outputs": [
    {
     "name": "stderr",
     "output_type": "stream",
     "text": [
      "C:\\Users\\ravin\\anaconda3\\Lib\\site-packages\\sklearn\\preprocessing\\_encoders.py:972: FutureWarning: `sparse` was renamed to `sparse_output` in version 1.2 and will be removed in 1.4. `sparse_output` is ignored unless you leave `sparse` to its default value.\n",
      "  warnings.warn(\n"
     ]
    }
   ],
   "source": [
    "transformed = pd.DataFrame(ohe.fit_transform(categorical1))"
   ]
  },
  {
   "cell_type": "code",
   "execution_count": 172,
   "id": "b216ce47",
   "metadata": {},
   "outputs": [
    {
     "data": {
      "text/html": [
       "<div>\n",
       "<style scoped>\n",
       "    .dataframe tbody tr th:only-of-type {\n",
       "        vertical-align: middle;\n",
       "    }\n",
       "\n",
       "    .dataframe tbody tr th {\n",
       "        vertical-align: top;\n",
       "    }\n",
       "\n",
       "    .dataframe thead th {\n",
       "        text-align: right;\n",
       "    }\n",
       "</style>\n",
       "<table border=\"1\" class=\"dataframe\">\n",
       "  <thead>\n",
       "    <tr style=\"text-align: right;\">\n",
       "      <th></th>\n",
       "      <th>price_per_sqft</th>\n",
       "      <th>bathroom</th>\n",
       "      <th>balcony</th>\n",
       "      <th>BHK</th>\n",
       "      <th>Other</th>\n",
       "      <th>servant</th>\n",
       "      <th>Store</th>\n",
       "      <th>Pooja</th>\n",
       "      <th>Study</th>\n",
       "      <th>carpet12</th>\n",
       "      <th>...</th>\n",
       "      <th>1</th>\n",
       "      <th>2</th>\n",
       "      <th>3</th>\n",
       "      <th>4</th>\n",
       "      <th>5</th>\n",
       "      <th>6</th>\n",
       "      <th>7</th>\n",
       "      <th>8</th>\n",
       "      <th>9</th>\n",
       "      <th>10</th>\n",
       "    </tr>\n",
       "  </thead>\n",
       "  <tbody>\n",
       "    <tr>\n",
       "      <th>0</th>\n",
       "      <td>5000</td>\n",
       "      <td>2</td>\n",
       "      <td>1</td>\n",
       "      <td>2</td>\n",
       "      <td>0</td>\n",
       "      <td>0</td>\n",
       "      <td>0</td>\n",
       "      <td>0</td>\n",
       "      <td>0</td>\n",
       "      <td>899.969679</td>\n",
       "      <td>...</td>\n",
       "      <td>1.0</td>\n",
       "      <td>0.0</td>\n",
       "      <td>0.0</td>\n",
       "      <td>0.0</td>\n",
       "      <td>0.0</td>\n",
       "      <td>0.0</td>\n",
       "      <td>0.0</td>\n",
       "      <td>1.0</td>\n",
       "      <td>1.0</td>\n",
       "      <td>0.0</td>\n",
       "    </tr>\n",
       "    <tr>\n",
       "      <th>1</th>\n",
       "      <td>7692</td>\n",
       "      <td>2</td>\n",
       "      <td>1</td>\n",
       "      <td>2</td>\n",
       "      <td>0</td>\n",
       "      <td>0</td>\n",
       "      <td>0</td>\n",
       "      <td>0</td>\n",
       "      <td>0</td>\n",
       "      <td>650.031921</td>\n",
       "      <td>...</td>\n",
       "      <td>1.0</td>\n",
       "      <td>0.0</td>\n",
       "      <td>0.0</td>\n",
       "      <td>0.0</td>\n",
       "      <td>0.0</td>\n",
       "      <td>0.0</td>\n",
       "      <td>1.0</td>\n",
       "      <td>1.0</td>\n",
       "      <td>0.0</td>\n",
       "      <td>1.0</td>\n",
       "    </tr>\n",
       "    <tr>\n",
       "      <th>2</th>\n",
       "      <td>6722</td>\n",
       "      <td>2</td>\n",
       "      <td>3</td>\n",
       "      <td>2</td>\n",
       "      <td>0</td>\n",
       "      <td>0</td>\n",
       "      <td>0</td>\n",
       "      <td>0</td>\n",
       "      <td>0</td>\n",
       "      <td>595.028392</td>\n",
       "      <td>...</td>\n",
       "      <td>0.0</td>\n",
       "      <td>1.0</td>\n",
       "      <td>1.0</td>\n",
       "      <td>0.0</td>\n",
       "      <td>0.0</td>\n",
       "      <td>0.0</td>\n",
       "      <td>0.0</td>\n",
       "      <td>1.0</td>\n",
       "      <td>1.0</td>\n",
       "      <td>0.0</td>\n",
       "    </tr>\n",
       "    <tr>\n",
       "      <th>3</th>\n",
       "      <td>12250</td>\n",
       "      <td>2</td>\n",
       "      <td>2</td>\n",
       "      <td>2</td>\n",
       "      <td>0</td>\n",
       "      <td>0</td>\n",
       "      <td>0</td>\n",
       "      <td>0</td>\n",
       "      <td>0</td>\n",
       "      <td>1199.959572</td>\n",
       "      <td>...</td>\n",
       "      <td>1.0</td>\n",
       "      <td>0.0</td>\n",
       "      <td>1.0</td>\n",
       "      <td>0.0</td>\n",
       "      <td>0.0</td>\n",
       "      <td>0.0</td>\n",
       "      <td>0.0</td>\n",
       "      <td>0.0</td>\n",
       "      <td>1.0</td>\n",
       "      <td>0.0</td>\n",
       "    </tr>\n",
       "    <tr>\n",
       "      <th>4</th>\n",
       "      <td>5204</td>\n",
       "      <td>2</td>\n",
       "      <td>3</td>\n",
       "      <td>2</td>\n",
       "      <td>0</td>\n",
       "      <td>0</td>\n",
       "      <td>0</td>\n",
       "      <td>0</td>\n",
       "      <td>0</td>\n",
       "      <td>1075.454140</td>\n",
       "      <td>...</td>\n",
       "      <td>1.0</td>\n",
       "      <td>0.0</td>\n",
       "      <td>0.0</td>\n",
       "      <td>0.0</td>\n",
       "      <td>1.0</td>\n",
       "      <td>0.0</td>\n",
       "      <td>0.0</td>\n",
       "      <td>1.0</td>\n",
       "      <td>1.0</td>\n",
       "      <td>0.0</td>\n",
       "    </tr>\n",
       "    <tr>\n",
       "      <th>...</th>\n",
       "      <td>...</td>\n",
       "      <td>...</td>\n",
       "      <td>...</td>\n",
       "      <td>...</td>\n",
       "      <td>...</td>\n",
       "      <td>...</td>\n",
       "      <td>...</td>\n",
       "      <td>...</td>\n",
       "      <td>...</td>\n",
       "      <td>...</td>\n",
       "      <td>...</td>\n",
       "      <td>...</td>\n",
       "      <td>...</td>\n",
       "      <td>...</td>\n",
       "      <td>...</td>\n",
       "      <td>...</td>\n",
       "      <td>...</td>\n",
       "      <td>...</td>\n",
       "      <td>...</td>\n",
       "      <td>...</td>\n",
       "      <td>...</td>\n",
       "    </tr>\n",
       "    <tr>\n",
       "      <th>3326</th>\n",
       "      <td>23870</td>\n",
       "      <td>6</td>\n",
       "      <td>4</td>\n",
       "      <td>8</td>\n",
       "      <td>0</td>\n",
       "      <td>1</td>\n",
       "      <td>0</td>\n",
       "      <td>0</td>\n",
       "      <td>0</td>\n",
       "      <td>1722.224000</td>\n",
       "      <td>...</td>\n",
       "      <td>1.0</td>\n",
       "      <td>0.0</td>\n",
       "      <td>0.0</td>\n",
       "      <td>1.0</td>\n",
       "      <td>0.0</td>\n",
       "      <td>0.0</td>\n",
       "      <td>0.0</td>\n",
       "      <td>0.0</td>\n",
       "      <td>1.0</td>\n",
       "      <td>0.0</td>\n",
       "    </tr>\n",
       "    <tr>\n",
       "      <th>3327</th>\n",
       "      <td>24500</td>\n",
       "      <td>4</td>\n",
       "      <td>4</td>\n",
       "      <td>5</td>\n",
       "      <td>0</td>\n",
       "      <td>1</td>\n",
       "      <td>0</td>\n",
       "      <td>0</td>\n",
       "      <td>0</td>\n",
       "      <td>1056.819273</td>\n",
       "      <td>...</td>\n",
       "      <td>1.0</td>\n",
       "      <td>0.0</td>\n",
       "      <td>0.0</td>\n",
       "      <td>1.0</td>\n",
       "      <td>0.0</td>\n",
       "      <td>0.0</td>\n",
       "      <td>0.0</td>\n",
       "      <td>0.0</td>\n",
       "      <td>1.0</td>\n",
       "      <td>0.0</td>\n",
       "    </tr>\n",
       "    <tr>\n",
       "      <th>3328</th>\n",
       "      <td>20026</td>\n",
       "      <td>4</td>\n",
       "      <td>4</td>\n",
       "      <td>5</td>\n",
       "      <td>0</td>\n",
       "      <td>1</td>\n",
       "      <td>1</td>\n",
       "      <td>0</td>\n",
       "      <td>0</td>\n",
       "      <td>1127.273891</td>\n",
       "      <td>...</td>\n",
       "      <td>1.0</td>\n",
       "      <td>0.0</td>\n",
       "      <td>0.0</td>\n",
       "      <td>1.0</td>\n",
       "      <td>0.0</td>\n",
       "      <td>0.0</td>\n",
       "      <td>0.0</td>\n",
       "      <td>0.0</td>\n",
       "      <td>1.0</td>\n",
       "      <td>0.0</td>\n",
       "    </tr>\n",
       "    <tr>\n",
       "      <th>3329</th>\n",
       "      <td>12551</td>\n",
       "      <td>3</td>\n",
       "      <td>2</td>\n",
       "      <td>3</td>\n",
       "      <td>1</td>\n",
       "      <td>1</td>\n",
       "      <td>0</td>\n",
       "      <td>1</td>\n",
       "      <td>1</td>\n",
       "      <td>1769.193745</td>\n",
       "      <td>...</td>\n",
       "      <td>1.0</td>\n",
       "      <td>0.0</td>\n",
       "      <td>0.0</td>\n",
       "      <td>1.0</td>\n",
       "      <td>0.0</td>\n",
       "      <td>0.0</td>\n",
       "      <td>0.0</td>\n",
       "      <td>0.0</td>\n",
       "      <td>1.0</td>\n",
       "      <td>0.0</td>\n",
       "    </tr>\n",
       "    <tr>\n",
       "      <th>3330</th>\n",
       "      <td>14815</td>\n",
       "      <td>3</td>\n",
       "      <td>2</td>\n",
       "      <td>3</td>\n",
       "      <td>1</td>\n",
       "      <td>1</td>\n",
       "      <td>0</td>\n",
       "      <td>1</td>\n",
       "      <td>1</td>\n",
       "      <td>1769.193745</td>\n",
       "      <td>...</td>\n",
       "      <td>1.0</td>\n",
       "      <td>0.0</td>\n",
       "      <td>0.0</td>\n",
       "      <td>1.0</td>\n",
       "      <td>0.0</td>\n",
       "      <td>0.0</td>\n",
       "      <td>0.0</td>\n",
       "      <td>0.0</td>\n",
       "      <td>1.0</td>\n",
       "      <td>0.0</td>\n",
       "    </tr>\n",
       "  </tbody>\n",
       "</table>\n",
       "<p>3331 rows × 21 columns</p>\n",
       "</div>"
      ],
      "text/plain": [
       "      price_per_sqft  bathroom  balcony  BHK  Other  servant  Store  Pooja  \\\n",
       "0               5000         2        1    2      0        0      0      0   \n",
       "1               7692         2        1    2      0        0      0      0   \n",
       "2               6722         2        3    2      0        0      0      0   \n",
       "3              12250         2        2    2      0        0      0      0   \n",
       "4               5204         2        3    2      0        0      0      0   \n",
       "...              ...       ...      ...  ...    ...      ...    ...    ...   \n",
       "3326           23870         6        4    8      0        1      0      0   \n",
       "3327           24500         4        4    5      0        1      0      0   \n",
       "3328           20026         4        4    5      0        1      1      0   \n",
       "3329           12551         3        2    3      1        1      0      1   \n",
       "3330           14815         3        2    3      1        1      0      1   \n",
       "\n",
       "      Study     carpet12  ...    1    2    3    4    5    6    7    8    9  \\\n",
       "0         0   899.969679  ...  1.0  0.0  0.0  0.0  0.0  0.0  0.0  1.0  1.0   \n",
       "1         0   650.031921  ...  1.0  0.0  0.0  0.0  0.0  0.0  1.0  1.0  0.0   \n",
       "2         0   595.028392  ...  0.0  1.0  1.0  0.0  0.0  0.0  0.0  1.0  1.0   \n",
       "3         0  1199.959572  ...  1.0  0.0  1.0  0.0  0.0  0.0  0.0  0.0  1.0   \n",
       "4         0  1075.454140  ...  1.0  0.0  0.0  0.0  1.0  0.0  0.0  1.0  1.0   \n",
       "...     ...          ...  ...  ...  ...  ...  ...  ...  ...  ...  ...  ...   \n",
       "3326      0  1722.224000  ...  1.0  0.0  0.0  1.0  0.0  0.0  0.0  0.0  1.0   \n",
       "3327      0  1056.819273  ...  1.0  0.0  0.0  1.0  0.0  0.0  0.0  0.0  1.0   \n",
       "3328      0  1127.273891  ...  1.0  0.0  0.0  1.0  0.0  0.0  0.0  0.0  1.0   \n",
       "3329      1  1769.193745  ...  1.0  0.0  0.0  1.0  0.0  0.0  0.0  0.0  1.0   \n",
       "3330      1  1769.193745  ...  1.0  0.0  0.0  1.0  0.0  0.0  0.0  0.0  1.0   \n",
       "\n",
       "       10  \n",
       "0     0.0  \n",
       "1     1.0  \n",
       "2     0.0  \n",
       "3     0.0  \n",
       "4     0.0  \n",
       "...   ...  \n",
       "3326  0.0  \n",
       "3327  0.0  \n",
       "3328  0.0  \n",
       "3329  0.0  \n",
       "3330  0.0  \n",
       "\n",
       "[3331 rows x 21 columns]"
      ]
     },
     "execution_count": 172,
     "metadata": {},
     "output_type": "execute_result"
    }
   ],
   "source": [
    "final = pd.merge(numerical1, transformed, left_index=True, right_index=True)\n",
    "final"
   ]
  },
  {
   "cell_type": "code",
   "execution_count": null,
   "id": "b5040df3",
   "metadata": {},
   "outputs": [],
   "source": []
  },
  {
   "cell_type": "markdown",
   "id": "f1bd4abc",
   "metadata": {},
   "source": [
    "# feature Selection"
   ]
  },
  {
   "cell_type": "code",
   "execution_count": 38,
   "id": "c022021a",
   "metadata": {},
   "outputs": [],
   "source": [
    "from mlxtend.feature_selection import SequentialFeatureSelector as sfs\n",
    "from sklearn.ensemble import GradientBoostingRegressor"
   ]
  },
  {
   "cell_type": "code",
   "execution_count": 39,
   "id": "84db38e6",
   "metadata": {},
   "outputs": [],
   "source": [
    "lr1 = GradientBoostingRegressor()"
   ]
  },
  {
   "cell_type": "code",
   "execution_count": 46,
   "id": "223c3646",
   "metadata": {},
   "outputs": [],
   "source": [
    "sfs1 = sfs(lr1, k_features=10, n_jobs=2)"
   ]
  },
  {
   "cell_type": "code",
   "execution_count": 47,
   "id": "fee36263",
   "metadata": {},
   "outputs": [
    {
     "data": {
      "text/html": [
       "<style>#sk-container-id-1 {color: black;}#sk-container-id-1 pre{padding: 0;}#sk-container-id-1 div.sk-toggleable {background-color: white;}#sk-container-id-1 label.sk-toggleable__label {cursor: pointer;display: block;width: 100%;margin-bottom: 0;padding: 0.3em;box-sizing: border-box;text-align: center;}#sk-container-id-1 label.sk-toggleable__label-arrow:before {content: \"▸\";float: left;margin-right: 0.25em;color: #696969;}#sk-container-id-1 label.sk-toggleable__label-arrow:hover:before {color: black;}#sk-container-id-1 div.sk-estimator:hover label.sk-toggleable__label-arrow:before {color: black;}#sk-container-id-1 div.sk-toggleable__content {max-height: 0;max-width: 0;overflow: hidden;text-align: left;background-color: #f0f8ff;}#sk-container-id-1 div.sk-toggleable__content pre {margin: 0.2em;color: black;border-radius: 0.25em;background-color: #f0f8ff;}#sk-container-id-1 input.sk-toggleable__control:checked~div.sk-toggleable__content {max-height: 200px;max-width: 100%;overflow: auto;}#sk-container-id-1 input.sk-toggleable__control:checked~label.sk-toggleable__label-arrow:before {content: \"▾\";}#sk-container-id-1 div.sk-estimator input.sk-toggleable__control:checked~label.sk-toggleable__label {background-color: #d4ebff;}#sk-container-id-1 div.sk-label input.sk-toggleable__control:checked~label.sk-toggleable__label {background-color: #d4ebff;}#sk-container-id-1 input.sk-hidden--visually {border: 0;clip: rect(1px 1px 1px 1px);clip: rect(1px, 1px, 1px, 1px);height: 1px;margin: -1px;overflow: hidden;padding: 0;position: absolute;width: 1px;}#sk-container-id-1 div.sk-estimator {font-family: monospace;background-color: #f0f8ff;border: 1px dotted black;border-radius: 0.25em;box-sizing: border-box;margin-bottom: 0.5em;}#sk-container-id-1 div.sk-estimator:hover {background-color: #d4ebff;}#sk-container-id-1 div.sk-parallel-item::after {content: \"\";width: 100%;border-bottom: 1px solid gray;flex-grow: 1;}#sk-container-id-1 div.sk-label:hover label.sk-toggleable__label {background-color: #d4ebff;}#sk-container-id-1 div.sk-serial::before {content: \"\";position: absolute;border-left: 1px solid gray;box-sizing: border-box;top: 0;bottom: 0;left: 50%;z-index: 0;}#sk-container-id-1 div.sk-serial {display: flex;flex-direction: column;align-items: center;background-color: white;padding-right: 0.2em;padding-left: 0.2em;position: relative;}#sk-container-id-1 div.sk-item {position: relative;z-index: 1;}#sk-container-id-1 div.sk-parallel {display: flex;align-items: stretch;justify-content: center;background-color: white;position: relative;}#sk-container-id-1 div.sk-item::before, #sk-container-id-1 div.sk-parallel-item::before {content: \"\";position: absolute;border-left: 1px solid gray;box-sizing: border-box;top: 0;bottom: 0;left: 50%;z-index: -1;}#sk-container-id-1 div.sk-parallel-item {display: flex;flex-direction: column;z-index: 1;position: relative;background-color: white;}#sk-container-id-1 div.sk-parallel-item:first-child::after {align-self: flex-end;width: 50%;}#sk-container-id-1 div.sk-parallel-item:last-child::after {align-self: flex-start;width: 50%;}#sk-container-id-1 div.sk-parallel-item:only-child::after {width: 0;}#sk-container-id-1 div.sk-dashed-wrapped {border: 1px dashed gray;margin: 0 0.4em 0.5em 0.4em;box-sizing: border-box;padding-bottom: 0.4em;background-color: white;}#sk-container-id-1 div.sk-label label {font-family: monospace;font-weight: bold;display: inline-block;line-height: 1.2em;}#sk-container-id-1 div.sk-label-container {text-align: center;}#sk-container-id-1 div.sk-container {/* jupyter's `normalize.less` sets `[hidden] { display: none; }` but bootstrap.min.css set `[hidden] { display: none !important; }` so we also need the `!important` here to be able to override the default hidden behavior on the sphinx rendered scikit-learn.org. See: https://github.com/scikit-learn/scikit-learn/issues/21755 */display: inline-block !important;position: relative;}#sk-container-id-1 div.sk-text-repr-fallback {display: none;}</style><div id=\"sk-container-id-1\" class=\"sk-top-container\"><div class=\"sk-text-repr-fallback\"><pre>SequentialFeatureSelector(estimator=GradientBoostingRegressor(),\n",
       "                          k_features=(10, 10), n_jobs=2, scoring=&#x27;r2&#x27;)</pre><b>In a Jupyter environment, please rerun this cell to show the HTML representation or trust the notebook. <br />On GitHub, the HTML representation is unable to render, please try loading this page with nbviewer.org.</b></div><div class=\"sk-container\" hidden><div class=\"sk-item sk-dashed-wrapped\"><div class=\"sk-label-container\"><div class=\"sk-label sk-toggleable\"><input class=\"sk-toggleable__control sk-hidden--visually\" id=\"sk-estimator-id-1\" type=\"checkbox\" ><label for=\"sk-estimator-id-1\" class=\"sk-toggleable__label sk-toggleable__label-arrow\">SequentialFeatureSelector</label><div class=\"sk-toggleable__content\"><pre>SequentialFeatureSelector(estimator=GradientBoostingRegressor(),\n",
       "                          k_features=(10, 10), n_jobs=2, scoring=&#x27;r2&#x27;)</pre></div></div></div><div class=\"sk-parallel\"><div class=\"sk-parallel-item\"><div class=\"sk-item\"><div class=\"sk-label-container\"><div class=\"sk-label sk-toggleable\"><input class=\"sk-toggleable__control sk-hidden--visually\" id=\"sk-estimator-id-2\" type=\"checkbox\" ><label for=\"sk-estimator-id-2\" class=\"sk-toggleable__label sk-toggleable__label-arrow\">estimator: GradientBoostingRegressor</label><div class=\"sk-toggleable__content\"><pre>GradientBoostingRegressor()</pre></div></div></div><div class=\"sk-serial\"><div class=\"sk-item\"><div class=\"sk-estimator sk-toggleable\"><input class=\"sk-toggleable__control sk-hidden--visually\" id=\"sk-estimator-id-3\" type=\"checkbox\" ><label for=\"sk-estimator-id-3\" class=\"sk-toggleable__label sk-toggleable__label-arrow\">GradientBoostingRegressor</label><div class=\"sk-toggleable__content\"><pre>GradientBoostingRegressor()</pre></div></div></div></div></div></div></div></div></div></div>"
      ],
      "text/plain": [
       "SequentialFeatureSelector(estimator=GradientBoostingRegressor(),\n",
       "                          k_features=(10, 10), n_jobs=2, scoring='r2')"
      ]
     },
     "execution_count": 47,
     "metadata": {},
     "output_type": "execute_result"
    }
   ],
   "source": [
    "sfs1.fit(final, y)"
   ]
  },
  {
   "cell_type": "code",
   "execution_count": 48,
   "id": "2310b0eb",
   "metadata": {},
   "outputs": [],
   "source": [
    "feature = sfs1.k_feature_idx_"
   ]
  },
  {
   "cell_type": "code",
   "execution_count": 49,
   "id": "f30a0ed8",
   "metadata": {},
   "outputs": [
    {
     "data": {
      "text/plain": [
       "(0, 1, 3, 9, 10, 13, 14, 15, 18, 19)"
      ]
     },
     "execution_count": 49,
     "metadata": {},
     "output_type": "execute_result"
    }
   ],
   "source": [
    "feature"
   ]
  },
  {
   "cell_type": "code",
   "execution_count": 50,
   "id": "8b45e96d",
   "metadata": {},
   "outputs": [
    {
     "data": {
      "text/html": [
       "<div>\n",
       "<style scoped>\n",
       "    .dataframe tbody tr th:only-of-type {\n",
       "        vertical-align: middle;\n",
       "    }\n",
       "\n",
       "    .dataframe tbody tr th {\n",
       "        vertical-align: top;\n",
       "    }\n",
       "\n",
       "    .dataframe thead th {\n",
       "        text-align: right;\n",
       "    }\n",
       "</style>\n",
       "<table border=\"1\" class=\"dataframe\">\n",
       "  <thead>\n",
       "    <tr style=\"text-align: right;\">\n",
       "      <th></th>\n",
       "      <th>price_per_sqft</th>\n",
       "      <th>bathroom</th>\n",
       "      <th>BHK</th>\n",
       "      <th>carpet12</th>\n",
       "      <th>0</th>\n",
       "      <th>3</th>\n",
       "      <th>4</th>\n",
       "      <th>5</th>\n",
       "      <th>8</th>\n",
       "      <th>9</th>\n",
       "    </tr>\n",
       "  </thead>\n",
       "  <tbody>\n",
       "    <tr>\n",
       "      <th>0</th>\n",
       "      <td>5000</td>\n",
       "      <td>2</td>\n",
       "      <td>2</td>\n",
       "      <td>899.969679</td>\n",
       "      <td>1.0</td>\n",
       "      <td>0.0</td>\n",
       "      <td>0.0</td>\n",
       "      <td>0.0</td>\n",
       "      <td>1.0</td>\n",
       "      <td>1.0</td>\n",
       "    </tr>\n",
       "    <tr>\n",
       "      <th>1</th>\n",
       "      <td>7692</td>\n",
       "      <td>2</td>\n",
       "      <td>2</td>\n",
       "      <td>650.031921</td>\n",
       "      <td>1.0</td>\n",
       "      <td>0.0</td>\n",
       "      <td>0.0</td>\n",
       "      <td>0.0</td>\n",
       "      <td>1.0</td>\n",
       "      <td>0.0</td>\n",
       "    </tr>\n",
       "    <tr>\n",
       "      <th>2</th>\n",
       "      <td>6722</td>\n",
       "      <td>2</td>\n",
       "      <td>2</td>\n",
       "      <td>595.028392</td>\n",
       "      <td>1.0</td>\n",
       "      <td>1.0</td>\n",
       "      <td>0.0</td>\n",
       "      <td>0.0</td>\n",
       "      <td>1.0</td>\n",
       "      <td>1.0</td>\n",
       "    </tr>\n",
       "    <tr>\n",
       "      <th>3</th>\n",
       "      <td>12250</td>\n",
       "      <td>2</td>\n",
       "      <td>2</td>\n",
       "      <td>1199.959572</td>\n",
       "      <td>1.0</td>\n",
       "      <td>1.0</td>\n",
       "      <td>0.0</td>\n",
       "      <td>0.0</td>\n",
       "      <td>0.0</td>\n",
       "      <td>1.0</td>\n",
       "    </tr>\n",
       "    <tr>\n",
       "      <th>4</th>\n",
       "      <td>5204</td>\n",
       "      <td>2</td>\n",
       "      <td>2</td>\n",
       "      <td>1075.454140</td>\n",
       "      <td>1.0</td>\n",
       "      <td>0.0</td>\n",
       "      <td>0.0</td>\n",
       "      <td>1.0</td>\n",
       "      <td>1.0</td>\n",
       "      <td>1.0</td>\n",
       "    </tr>\n",
       "    <tr>\n",
       "      <th>...</th>\n",
       "      <td>...</td>\n",
       "      <td>...</td>\n",
       "      <td>...</td>\n",
       "      <td>...</td>\n",
       "      <td>...</td>\n",
       "      <td>...</td>\n",
       "      <td>...</td>\n",
       "      <td>...</td>\n",
       "      <td>...</td>\n",
       "      <td>...</td>\n",
       "    </tr>\n",
       "    <tr>\n",
       "      <th>3326</th>\n",
       "      <td>23870</td>\n",
       "      <td>6</td>\n",
       "      <td>8</td>\n",
       "      <td>1722.224000</td>\n",
       "      <td>0.0</td>\n",
       "      <td>0.0</td>\n",
       "      <td>1.0</td>\n",
       "      <td>0.0</td>\n",
       "      <td>0.0</td>\n",
       "      <td>1.0</td>\n",
       "    </tr>\n",
       "    <tr>\n",
       "      <th>3327</th>\n",
       "      <td>24500</td>\n",
       "      <td>4</td>\n",
       "      <td>5</td>\n",
       "      <td>1056.819273</td>\n",
       "      <td>0.0</td>\n",
       "      <td>0.0</td>\n",
       "      <td>1.0</td>\n",
       "      <td>0.0</td>\n",
       "      <td>0.0</td>\n",
       "      <td>1.0</td>\n",
       "    </tr>\n",
       "    <tr>\n",
       "      <th>3328</th>\n",
       "      <td>20026</td>\n",
       "      <td>4</td>\n",
       "      <td>5</td>\n",
       "      <td>1127.273891</td>\n",
       "      <td>0.0</td>\n",
       "      <td>0.0</td>\n",
       "      <td>1.0</td>\n",
       "      <td>0.0</td>\n",
       "      <td>0.0</td>\n",
       "      <td>1.0</td>\n",
       "    </tr>\n",
       "    <tr>\n",
       "      <th>3329</th>\n",
       "      <td>12551</td>\n",
       "      <td>3</td>\n",
       "      <td>3</td>\n",
       "      <td>1769.193745</td>\n",
       "      <td>0.0</td>\n",
       "      <td>0.0</td>\n",
       "      <td>1.0</td>\n",
       "      <td>0.0</td>\n",
       "      <td>0.0</td>\n",
       "      <td>1.0</td>\n",
       "    </tr>\n",
       "    <tr>\n",
       "      <th>3330</th>\n",
       "      <td>14815</td>\n",
       "      <td>3</td>\n",
       "      <td>3</td>\n",
       "      <td>1769.193745</td>\n",
       "      <td>0.0</td>\n",
       "      <td>0.0</td>\n",
       "      <td>1.0</td>\n",
       "      <td>0.0</td>\n",
       "      <td>0.0</td>\n",
       "      <td>1.0</td>\n",
       "    </tr>\n",
       "  </tbody>\n",
       "</table>\n",
       "<p>3331 rows × 10 columns</p>\n",
       "</div>"
      ],
      "text/plain": [
       "      price_per_sqft  bathroom  BHK     carpet12    0    3    4    5    8    9\n",
       "0               5000         2    2   899.969679  1.0  0.0  0.0  0.0  1.0  1.0\n",
       "1               7692         2    2   650.031921  1.0  0.0  0.0  0.0  1.0  0.0\n",
       "2               6722         2    2   595.028392  1.0  1.0  0.0  0.0  1.0  1.0\n",
       "3              12250         2    2  1199.959572  1.0  1.0  0.0  0.0  0.0  1.0\n",
       "4               5204         2    2  1075.454140  1.0  0.0  0.0  1.0  1.0  1.0\n",
       "...              ...       ...  ...          ...  ...  ...  ...  ...  ...  ...\n",
       "3326           23870         6    8  1722.224000  0.0  0.0  1.0  0.0  0.0  1.0\n",
       "3327           24500         4    5  1056.819273  0.0  0.0  1.0  0.0  0.0  1.0\n",
       "3328           20026         4    5  1127.273891  0.0  0.0  1.0  0.0  0.0  1.0\n",
       "3329           12551         3    3  1769.193745  0.0  0.0  1.0  0.0  0.0  1.0\n",
       "3330           14815         3    3  1769.193745  0.0  0.0  1.0  0.0  0.0  1.0\n",
       "\n",
       "[3331 rows x 10 columns]"
      ]
     },
     "execution_count": 50,
     "metadata": {},
     "output_type": "execute_result"
    }
   ],
   "source": [
    "selected_columns = final.iloc[:, [0, 1, 3, 9, 10, 13, 14, 15, 18, 19]]\n",
    "selected_columns"
   ]
  },
  {
   "cell_type": "code",
   "execution_count": null,
   "id": "763bd038",
   "metadata": {},
   "outputs": [],
   "source": []
  },
  {
   "cell_type": "markdown",
   "id": "ba96f514",
   "metadata": {},
   "source": [
    "# Standard Scaler"
   ]
  },
  {
   "cell_type": "code",
   "execution_count": 173,
   "id": "99ac844a",
   "metadata": {},
   "outputs": [],
   "source": [
    "from sklearn.preprocessing import StandardScaler\n",
    "\n",
    "st = StandardScaler()\n",
    "selected_columns.columns = selected_columns.columns.astype(str)\n",
    "scaled = pd.DataFrame(st.fit_transform(selected_columns))"
   ]
  },
  {
   "cell_type": "code",
   "execution_count": 174,
   "id": "0e655ebd",
   "metadata": {},
   "outputs": [
    {
     "data": {
      "text/html": [
       "<div>\n",
       "<style scoped>\n",
       "    .dataframe tbody tr th:only-of-type {\n",
       "        vertical-align: middle;\n",
       "    }\n",
       "\n",
       "    .dataframe tbody tr th {\n",
       "        vertical-align: top;\n",
       "    }\n",
       "\n",
       "    .dataframe thead th {\n",
       "        text-align: right;\n",
       "    }\n",
       "</style>\n",
       "<table border=\"1\" class=\"dataframe\">\n",
       "  <thead>\n",
       "    <tr style=\"text-align: right;\">\n",
       "      <th></th>\n",
       "      <th>0</th>\n",
       "      <th>1</th>\n",
       "      <th>2</th>\n",
       "      <th>3</th>\n",
       "      <th>4</th>\n",
       "      <th>5</th>\n",
       "      <th>6</th>\n",
       "      <th>7</th>\n",
       "      <th>8</th>\n",
       "      <th>9</th>\n",
       "    </tr>\n",
       "  </thead>\n",
       "  <tbody>\n",
       "    <tr>\n",
       "      <th>0</th>\n",
       "      <td>-1.073357</td>\n",
       "      <td>-0.924855</td>\n",
       "      <td>-0.910260</td>\n",
       "      <td>-0.030872</td>\n",
       "      <td>0.365738</td>\n",
       "      <td>-0.474904</td>\n",
       "      <td>-0.397245</td>\n",
       "      <td>-0.254081</td>\n",
       "      <td>1.058445</td>\n",
       "      <td>0.714124</td>\n",
       "    </tr>\n",
       "    <tr>\n",
       "      <th>1</th>\n",
       "      <td>-0.463689</td>\n",
       "      <td>-0.924855</td>\n",
       "      <td>-0.910260</td>\n",
       "      <td>-0.033110</td>\n",
       "      <td>0.365738</td>\n",
       "      <td>-0.474904</td>\n",
       "      <td>-0.397245</td>\n",
       "      <td>-0.254081</td>\n",
       "      <td>1.058445</td>\n",
       "      <td>-1.400317</td>\n",
       "    </tr>\n",
       "    <tr>\n",
       "      <th>2</th>\n",
       "      <td>-0.683369</td>\n",
       "      <td>-0.924855</td>\n",
       "      <td>-0.910260</td>\n",
       "      <td>-0.033603</td>\n",
       "      <td>0.365738</td>\n",
       "      <td>2.105690</td>\n",
       "      <td>-0.397245</td>\n",
       "      <td>-0.254081</td>\n",
       "      <td>1.058445</td>\n",
       "      <td>0.714124</td>\n",
       "    </tr>\n",
       "    <tr>\n",
       "      <th>3</th>\n",
       "      <td>0.568581</td>\n",
       "      <td>-0.924855</td>\n",
       "      <td>-0.910260</td>\n",
       "      <td>-0.028185</td>\n",
       "      <td>0.365738</td>\n",
       "      <td>2.105690</td>\n",
       "      <td>-0.397245</td>\n",
       "      <td>-0.254081</td>\n",
       "      <td>-0.944782</td>\n",
       "      <td>0.714124</td>\n",
       "    </tr>\n",
       "    <tr>\n",
       "      <th>4</th>\n",
       "      <td>-1.027156</td>\n",
       "      <td>-0.924855</td>\n",
       "      <td>-0.910260</td>\n",
       "      <td>-0.029300</td>\n",
       "      <td>0.365738</td>\n",
       "      <td>-0.474904</td>\n",
       "      <td>-0.397245</td>\n",
       "      <td>3.935746</td>\n",
       "      <td>1.058445</td>\n",
       "      <td>0.714124</td>\n",
       "    </tr>\n",
       "    <tr>\n",
       "      <th>...</th>\n",
       "      <td>...</td>\n",
       "      <td>...</td>\n",
       "      <td>...</td>\n",
       "      <td>...</td>\n",
       "      <td>...</td>\n",
       "      <td>...</td>\n",
       "      <td>...</td>\n",
       "      <td>...</td>\n",
       "      <td>...</td>\n",
       "      <td>...</td>\n",
       "    </tr>\n",
       "    <tr>\n",
       "      <th>3326</th>\n",
       "      <td>3.200211</td>\n",
       "      <td>2.474529</td>\n",
       "      <td>4.589272</td>\n",
       "      <td>-0.023508</td>\n",
       "      <td>-2.734196</td>\n",
       "      <td>-0.474904</td>\n",
       "      <td>2.517341</td>\n",
       "      <td>-0.254081</td>\n",
       "      <td>-0.944782</td>\n",
       "      <td>0.714124</td>\n",
       "    </tr>\n",
       "    <tr>\n",
       "      <th>3327</th>\n",
       "      <td>3.342890</td>\n",
       "      <td>0.774837</td>\n",
       "      <td>1.839506</td>\n",
       "      <td>-0.029467</td>\n",
       "      <td>-2.734196</td>\n",
       "      <td>-0.474904</td>\n",
       "      <td>2.517341</td>\n",
       "      <td>-0.254081</td>\n",
       "      <td>-0.944782</td>\n",
       "      <td>0.714124</td>\n",
       "    </tr>\n",
       "    <tr>\n",
       "      <th>3328</th>\n",
       "      <td>2.329644</td>\n",
       "      <td>0.774837</td>\n",
       "      <td>1.839506</td>\n",
       "      <td>-0.028836</td>\n",
       "      <td>-2.734196</td>\n",
       "      <td>-0.474904</td>\n",
       "      <td>2.517341</td>\n",
       "      <td>-0.254081</td>\n",
       "      <td>-0.944782</td>\n",
       "      <td>0.714124</td>\n",
       "    </tr>\n",
       "    <tr>\n",
       "      <th>3329</th>\n",
       "      <td>0.636750</td>\n",
       "      <td>-0.075009</td>\n",
       "      <td>0.006329</td>\n",
       "      <td>-0.023087</td>\n",
       "      <td>-2.734196</td>\n",
       "      <td>-0.474904</td>\n",
       "      <td>2.517341</td>\n",
       "      <td>-0.254081</td>\n",
       "      <td>-0.944782</td>\n",
       "      <td>0.714124</td>\n",
       "    </tr>\n",
       "    <tr>\n",
       "      <th>3330</th>\n",
       "      <td>1.149487</td>\n",
       "      <td>-0.075009</td>\n",
       "      <td>0.006329</td>\n",
       "      <td>-0.023087</td>\n",
       "      <td>-2.734196</td>\n",
       "      <td>-0.474904</td>\n",
       "      <td>2.517341</td>\n",
       "      <td>-0.254081</td>\n",
       "      <td>-0.944782</td>\n",
       "      <td>0.714124</td>\n",
       "    </tr>\n",
       "  </tbody>\n",
       "</table>\n",
       "<p>3331 rows × 10 columns</p>\n",
       "</div>"
      ],
      "text/plain": [
       "             0         1         2         3         4         5         6  \\\n",
       "0    -1.073357 -0.924855 -0.910260 -0.030872  0.365738 -0.474904 -0.397245   \n",
       "1    -0.463689 -0.924855 -0.910260 -0.033110  0.365738 -0.474904 -0.397245   \n",
       "2    -0.683369 -0.924855 -0.910260 -0.033603  0.365738  2.105690 -0.397245   \n",
       "3     0.568581 -0.924855 -0.910260 -0.028185  0.365738  2.105690 -0.397245   \n",
       "4    -1.027156 -0.924855 -0.910260 -0.029300  0.365738 -0.474904 -0.397245   \n",
       "...        ...       ...       ...       ...       ...       ...       ...   \n",
       "3326  3.200211  2.474529  4.589272 -0.023508 -2.734196 -0.474904  2.517341   \n",
       "3327  3.342890  0.774837  1.839506 -0.029467 -2.734196 -0.474904  2.517341   \n",
       "3328  2.329644  0.774837  1.839506 -0.028836 -2.734196 -0.474904  2.517341   \n",
       "3329  0.636750 -0.075009  0.006329 -0.023087 -2.734196 -0.474904  2.517341   \n",
       "3330  1.149487 -0.075009  0.006329 -0.023087 -2.734196 -0.474904  2.517341   \n",
       "\n",
       "             7         8         9  \n",
       "0    -0.254081  1.058445  0.714124  \n",
       "1    -0.254081  1.058445 -1.400317  \n",
       "2    -0.254081  1.058445  0.714124  \n",
       "3    -0.254081 -0.944782  0.714124  \n",
       "4     3.935746  1.058445  0.714124  \n",
       "...        ...       ...       ...  \n",
       "3326 -0.254081 -0.944782  0.714124  \n",
       "3327 -0.254081 -0.944782  0.714124  \n",
       "3328 -0.254081 -0.944782  0.714124  \n",
       "3329 -0.254081 -0.944782  0.714124  \n",
       "3330 -0.254081 -0.944782  0.714124  \n",
       "\n",
       "[3331 rows x 10 columns]"
      ]
     },
     "execution_count": 174,
     "metadata": {},
     "output_type": "execute_result"
    }
   ],
   "source": [
    "scaled"
   ]
  },
  {
   "cell_type": "markdown",
   "id": "5fa0566a",
   "metadata": {},
   "source": [
    "# Train test split"
   ]
  },
  {
   "cell_type": "code",
   "execution_count": 175,
   "id": "c7eaac83",
   "metadata": {},
   "outputs": [],
   "source": [
    "from sklearn.model_selection import train_test_split\n",
    "\n",
    "x_train,x_test,y_train, y_test = train_test_split(scaled, y, test_size=0.20, random_state=26)"
   ]
  },
  {
   "cell_type": "code",
   "execution_count": null,
   "id": "402f2aef",
   "metadata": {},
   "outputs": [],
   "source": []
  },
  {
   "cell_type": "markdown",
   "id": "1aaec9da",
   "metadata": {},
   "source": [
    "# Linear Model"
   ]
  },
  {
   "cell_type": "code",
   "execution_count": 176,
   "id": "1e59c124",
   "metadata": {},
   "outputs": [],
   "source": [
    "from sklearn.linear_model import LinearRegression\n",
    "from sklearn.metrics import r2_score, mean_squared_error, mean_absolute_error"
   ]
  },
  {
   "cell_type": "code",
   "execution_count": 177,
   "id": "0d3b91ff",
   "metadata": {},
   "outputs": [
    {
     "data": {
      "text/html": [
       "<style>#sk-container-id-5 {color: black;}#sk-container-id-5 pre{padding: 0;}#sk-container-id-5 div.sk-toggleable {background-color: white;}#sk-container-id-5 label.sk-toggleable__label {cursor: pointer;display: block;width: 100%;margin-bottom: 0;padding: 0.3em;box-sizing: border-box;text-align: center;}#sk-container-id-5 label.sk-toggleable__label-arrow:before {content: \"▸\";float: left;margin-right: 0.25em;color: #696969;}#sk-container-id-5 label.sk-toggleable__label-arrow:hover:before {color: black;}#sk-container-id-5 div.sk-estimator:hover label.sk-toggleable__label-arrow:before {color: black;}#sk-container-id-5 div.sk-toggleable__content {max-height: 0;max-width: 0;overflow: hidden;text-align: left;background-color: #f0f8ff;}#sk-container-id-5 div.sk-toggleable__content pre {margin: 0.2em;color: black;border-radius: 0.25em;background-color: #f0f8ff;}#sk-container-id-5 input.sk-toggleable__control:checked~div.sk-toggleable__content {max-height: 200px;max-width: 100%;overflow: auto;}#sk-container-id-5 input.sk-toggleable__control:checked~label.sk-toggleable__label-arrow:before {content: \"▾\";}#sk-container-id-5 div.sk-estimator input.sk-toggleable__control:checked~label.sk-toggleable__label {background-color: #d4ebff;}#sk-container-id-5 div.sk-label input.sk-toggleable__control:checked~label.sk-toggleable__label {background-color: #d4ebff;}#sk-container-id-5 input.sk-hidden--visually {border: 0;clip: rect(1px 1px 1px 1px);clip: rect(1px, 1px, 1px, 1px);height: 1px;margin: -1px;overflow: hidden;padding: 0;position: absolute;width: 1px;}#sk-container-id-5 div.sk-estimator {font-family: monospace;background-color: #f0f8ff;border: 1px dotted black;border-radius: 0.25em;box-sizing: border-box;margin-bottom: 0.5em;}#sk-container-id-5 div.sk-estimator:hover {background-color: #d4ebff;}#sk-container-id-5 div.sk-parallel-item::after {content: \"\";width: 100%;border-bottom: 1px solid gray;flex-grow: 1;}#sk-container-id-5 div.sk-label:hover label.sk-toggleable__label {background-color: #d4ebff;}#sk-container-id-5 div.sk-serial::before {content: \"\";position: absolute;border-left: 1px solid gray;box-sizing: border-box;top: 0;bottom: 0;left: 50%;z-index: 0;}#sk-container-id-5 div.sk-serial {display: flex;flex-direction: column;align-items: center;background-color: white;padding-right: 0.2em;padding-left: 0.2em;position: relative;}#sk-container-id-5 div.sk-item {position: relative;z-index: 1;}#sk-container-id-5 div.sk-parallel {display: flex;align-items: stretch;justify-content: center;background-color: white;position: relative;}#sk-container-id-5 div.sk-item::before, #sk-container-id-5 div.sk-parallel-item::before {content: \"\";position: absolute;border-left: 1px solid gray;box-sizing: border-box;top: 0;bottom: 0;left: 50%;z-index: -1;}#sk-container-id-5 div.sk-parallel-item {display: flex;flex-direction: column;z-index: 1;position: relative;background-color: white;}#sk-container-id-5 div.sk-parallel-item:first-child::after {align-self: flex-end;width: 50%;}#sk-container-id-5 div.sk-parallel-item:last-child::after {align-self: flex-start;width: 50%;}#sk-container-id-5 div.sk-parallel-item:only-child::after {width: 0;}#sk-container-id-5 div.sk-dashed-wrapped {border: 1px dashed gray;margin: 0 0.4em 0.5em 0.4em;box-sizing: border-box;padding-bottom: 0.4em;background-color: white;}#sk-container-id-5 div.sk-label label {font-family: monospace;font-weight: bold;display: inline-block;line-height: 1.2em;}#sk-container-id-5 div.sk-label-container {text-align: center;}#sk-container-id-5 div.sk-container {/* jupyter's `normalize.less` sets `[hidden] { display: none; }` but bootstrap.min.css set `[hidden] { display: none !important; }` so we also need the `!important` here to be able to override the default hidden behavior on the sphinx rendered scikit-learn.org. See: https://github.com/scikit-learn/scikit-learn/issues/21755 */display: inline-block !important;position: relative;}#sk-container-id-5 div.sk-text-repr-fallback {display: none;}</style><div id=\"sk-container-id-5\" class=\"sk-top-container\"><div class=\"sk-text-repr-fallback\"><pre>LinearRegression()</pre><b>In a Jupyter environment, please rerun this cell to show the HTML representation or trust the notebook. <br />On GitHub, the HTML representation is unable to render, please try loading this page with nbviewer.org.</b></div><div class=\"sk-container\" hidden><div class=\"sk-item\"><div class=\"sk-estimator sk-toggleable\"><input class=\"sk-toggleable__control sk-hidden--visually\" id=\"sk-estimator-id-15\" type=\"checkbox\" checked><label for=\"sk-estimator-id-15\" class=\"sk-toggleable__label sk-toggleable__label-arrow\">LinearRegression</label><div class=\"sk-toggleable__content\"><pre>LinearRegression()</pre></div></div></div></div></div>"
      ],
      "text/plain": [
       "LinearRegression()"
      ]
     },
     "execution_count": 177,
     "metadata": {},
     "output_type": "execute_result"
    }
   ],
   "source": [
    "lr = LinearRegression()\n",
    "\n",
    "x_train.columns = x_train.columns.astype(str)\n",
    "\n",
    "lr.fit(x_train, y_train)"
   ]
  },
  {
   "cell_type": "code",
   "execution_count": 178,
   "id": "915eb549",
   "metadata": {},
   "outputs": [],
   "source": [
    "predict_train = lr.predict(x_train)\n",
    "\n",
    "x_test.columns = x_test.columns.astype(str)\n",
    "predict_test = lr.predict(x_test)"
   ]
  },
  {
   "cell_type": "markdown",
   "id": "6f5c6e07",
   "metadata": {},
   "source": [
    "# accuracy check"
   ]
  },
  {
   "cell_type": "code",
   "execution_count": 179,
   "id": "c6f95a9e",
   "metadata": {},
   "outputs": [
    {
     "data": {
      "text/plain": [
       "0.33533187273851606"
      ]
     },
     "execution_count": 179,
     "metadata": {},
     "output_type": "execute_result"
    }
   ],
   "source": [
    "r2_score(predict_train, y_train)"
   ]
  },
  {
   "cell_type": "code",
   "execution_count": 180,
   "id": "22c58683",
   "metadata": {},
   "outputs": [
    {
     "data": {
      "text/plain": [
       "0.4401349302227482"
      ]
     },
     "execution_count": 180,
     "metadata": {},
     "output_type": "execute_result"
    }
   ],
   "source": [
    "r2_score(predict_test, y_test)"
   ]
  },
  {
   "cell_type": "code",
   "execution_count": 181,
   "id": "da05c793",
   "metadata": {},
   "outputs": [
    {
     "data": {
      "text/plain": [
       "6003120.531039914"
      ]
     },
     "execution_count": 181,
     "metadata": {},
     "output_type": "execute_result"
    }
   ],
   "source": [
    "mean_absolute_error(predict_test, y_test)"
   ]
  },
  {
   "cell_type": "code",
   "execution_count": 182,
   "id": "343733a5",
   "metadata": {},
   "outputs": [
    {
     "data": {
      "text/plain": [
       "5847192.228954679"
      ]
     },
     "execution_count": 182,
     "metadata": {},
     "output_type": "execute_result"
    }
   ],
   "source": [
    "mean_absolute_error(predict_train, y_train)"
   ]
  },
  {
   "cell_type": "code",
   "execution_count": null,
   "id": "fe7fc6b7",
   "metadata": {},
   "outputs": [],
   "source": []
  },
  {
   "cell_type": "markdown",
   "id": "550b8e38",
   "metadata": {},
   "source": [
    "# GradientBoostingRegressor"
   ]
  },
  {
   "cell_type": "code",
   "execution_count": 183,
   "id": "536c027e",
   "metadata": {},
   "outputs": [],
   "source": [
    "x_train1,x_test1,y_train1, y_test1 = train_test_split(scaled, y, test_size=0.20, random_state=14)\n",
    "\n",
    "x_train1.columns =x_train1.columns.astype(str)\n",
    "x_test1.columns = x_test1.columns.astype(str)"
   ]
  },
  {
   "cell_type": "code",
   "execution_count": 184,
   "id": "5baa19b3",
   "metadata": {},
   "outputs": [],
   "source": [
    "from sklearn.ensemble import GradientBoostingRegressor"
   ]
  },
  {
   "cell_type": "code",
   "execution_count": 185,
   "id": "bf6c2998",
   "metadata": {},
   "outputs": [],
   "source": [
    "gbr = GradientBoostingRegressor(max_depth=3, n_estimators=80, learning_rate=0.10, max_leaf_nodes=3)"
   ]
  },
  {
   "cell_type": "code",
   "execution_count": 186,
   "id": "1fa2f26c",
   "metadata": {},
   "outputs": [
    {
     "data": {
      "text/html": [
       "<style>#sk-container-id-6 {color: black;}#sk-container-id-6 pre{padding: 0;}#sk-container-id-6 div.sk-toggleable {background-color: white;}#sk-container-id-6 label.sk-toggleable__label {cursor: pointer;display: block;width: 100%;margin-bottom: 0;padding: 0.3em;box-sizing: border-box;text-align: center;}#sk-container-id-6 label.sk-toggleable__label-arrow:before {content: \"▸\";float: left;margin-right: 0.25em;color: #696969;}#sk-container-id-6 label.sk-toggleable__label-arrow:hover:before {color: black;}#sk-container-id-6 div.sk-estimator:hover label.sk-toggleable__label-arrow:before {color: black;}#sk-container-id-6 div.sk-toggleable__content {max-height: 0;max-width: 0;overflow: hidden;text-align: left;background-color: #f0f8ff;}#sk-container-id-6 div.sk-toggleable__content pre {margin: 0.2em;color: black;border-radius: 0.25em;background-color: #f0f8ff;}#sk-container-id-6 input.sk-toggleable__control:checked~div.sk-toggleable__content {max-height: 200px;max-width: 100%;overflow: auto;}#sk-container-id-6 input.sk-toggleable__control:checked~label.sk-toggleable__label-arrow:before {content: \"▾\";}#sk-container-id-6 div.sk-estimator input.sk-toggleable__control:checked~label.sk-toggleable__label {background-color: #d4ebff;}#sk-container-id-6 div.sk-label input.sk-toggleable__control:checked~label.sk-toggleable__label {background-color: #d4ebff;}#sk-container-id-6 input.sk-hidden--visually {border: 0;clip: rect(1px 1px 1px 1px);clip: rect(1px, 1px, 1px, 1px);height: 1px;margin: -1px;overflow: hidden;padding: 0;position: absolute;width: 1px;}#sk-container-id-6 div.sk-estimator {font-family: monospace;background-color: #f0f8ff;border: 1px dotted black;border-radius: 0.25em;box-sizing: border-box;margin-bottom: 0.5em;}#sk-container-id-6 div.sk-estimator:hover {background-color: #d4ebff;}#sk-container-id-6 div.sk-parallel-item::after {content: \"\";width: 100%;border-bottom: 1px solid gray;flex-grow: 1;}#sk-container-id-6 div.sk-label:hover label.sk-toggleable__label {background-color: #d4ebff;}#sk-container-id-6 div.sk-serial::before {content: \"\";position: absolute;border-left: 1px solid gray;box-sizing: border-box;top: 0;bottom: 0;left: 50%;z-index: 0;}#sk-container-id-6 div.sk-serial {display: flex;flex-direction: column;align-items: center;background-color: white;padding-right: 0.2em;padding-left: 0.2em;position: relative;}#sk-container-id-6 div.sk-item {position: relative;z-index: 1;}#sk-container-id-6 div.sk-parallel {display: flex;align-items: stretch;justify-content: center;background-color: white;position: relative;}#sk-container-id-6 div.sk-item::before, #sk-container-id-6 div.sk-parallel-item::before {content: \"\";position: absolute;border-left: 1px solid gray;box-sizing: border-box;top: 0;bottom: 0;left: 50%;z-index: -1;}#sk-container-id-6 div.sk-parallel-item {display: flex;flex-direction: column;z-index: 1;position: relative;background-color: white;}#sk-container-id-6 div.sk-parallel-item:first-child::after {align-self: flex-end;width: 50%;}#sk-container-id-6 div.sk-parallel-item:last-child::after {align-self: flex-start;width: 50%;}#sk-container-id-6 div.sk-parallel-item:only-child::after {width: 0;}#sk-container-id-6 div.sk-dashed-wrapped {border: 1px dashed gray;margin: 0 0.4em 0.5em 0.4em;box-sizing: border-box;padding-bottom: 0.4em;background-color: white;}#sk-container-id-6 div.sk-label label {font-family: monospace;font-weight: bold;display: inline-block;line-height: 1.2em;}#sk-container-id-6 div.sk-label-container {text-align: center;}#sk-container-id-6 div.sk-container {/* jupyter's `normalize.less` sets `[hidden] { display: none; }` but bootstrap.min.css set `[hidden] { display: none !important; }` so we also need the `!important` here to be able to override the default hidden behavior on the sphinx rendered scikit-learn.org. See: https://github.com/scikit-learn/scikit-learn/issues/21755 */display: inline-block !important;position: relative;}#sk-container-id-6 div.sk-text-repr-fallback {display: none;}</style><div id=\"sk-container-id-6\" class=\"sk-top-container\"><div class=\"sk-text-repr-fallback\"><pre>GradientBoostingRegressor(max_leaf_nodes=3, n_estimators=80)</pre><b>In a Jupyter environment, please rerun this cell to show the HTML representation or trust the notebook. <br />On GitHub, the HTML representation is unable to render, please try loading this page with nbviewer.org.</b></div><div class=\"sk-container\" hidden><div class=\"sk-item\"><div class=\"sk-estimator sk-toggleable\"><input class=\"sk-toggleable__control sk-hidden--visually\" id=\"sk-estimator-id-16\" type=\"checkbox\" checked><label for=\"sk-estimator-id-16\" class=\"sk-toggleable__label sk-toggleable__label-arrow\">GradientBoostingRegressor</label><div class=\"sk-toggleable__content\"><pre>GradientBoostingRegressor(max_leaf_nodes=3, n_estimators=80)</pre></div></div></div></div></div>"
      ],
      "text/plain": [
       "GradientBoostingRegressor(max_leaf_nodes=3, n_estimators=80)"
      ]
     },
     "execution_count": 186,
     "metadata": {},
     "output_type": "execute_result"
    }
   ],
   "source": [
    "gbr.fit(x_train1, y_train1)"
   ]
  },
  {
   "cell_type": "code",
   "execution_count": 187,
   "id": "63b6f50c",
   "metadata": {},
   "outputs": [],
   "source": [
    "predict_trainr1 = gbr.predict(x_train1)"
   ]
  },
  {
   "cell_type": "code",
   "execution_count": 188,
   "id": "7ad5bff3",
   "metadata": {},
   "outputs": [],
   "source": [
    "\n",
    "predict_testr1 = gbr.predict(x_test1)"
   ]
  },
  {
   "cell_type": "markdown",
   "id": "4ab59fbe",
   "metadata": {},
   "source": [
    "# accuracy check"
   ]
  },
  {
   "cell_type": "code",
   "execution_count": 189,
   "id": "95ad4c71",
   "metadata": {},
   "outputs": [
    {
     "data": {
      "text/plain": [
       "0.9300357764991993"
      ]
     },
     "execution_count": 189,
     "metadata": {},
     "output_type": "execute_result"
    }
   ],
   "source": [
    "r2_score(predict_trainr1, y_train1)"
   ]
  },
  {
   "cell_type": "code",
   "execution_count": 190,
   "id": "1aa9f692",
   "metadata": {},
   "outputs": [
    {
     "data": {
      "text/plain": [
       "0.9208146623993714"
      ]
     },
     "execution_count": 190,
     "metadata": {},
     "output_type": "execute_result"
    }
   ],
   "source": [
    "r2_score(predict_testr1, y_test1)"
   ]
  },
  {
   "cell_type": "markdown",
   "id": "27d8eb8f",
   "metadata": {},
   "source": [
    "# Mean Absolute Error"
   ]
  },
  {
   "cell_type": "code",
   "execution_count": 191,
   "id": "6fc76a7f",
   "metadata": {},
   "outputs": [
    {
     "data": {
      "text/plain": [
       "2517448.693181477"
      ]
     },
     "execution_count": 191,
     "metadata": {},
     "output_type": "execute_result"
    }
   ],
   "source": [
    "mean_absolute_error(predict_trainr1, y_train1)"
   ]
  },
  {
   "cell_type": "code",
   "execution_count": 192,
   "id": "96063bbc",
   "metadata": {},
   "outputs": [
    {
     "data": {
      "text/plain": [
       "2729589.935109428"
      ]
     },
     "execution_count": 192,
     "metadata": {},
     "output_type": "execute_result"
    }
   ],
   "source": [
    "mean_absolute_error(predict_testr1, y_test1)"
   ]
  },
  {
   "cell_type": "code",
   "execution_count": 193,
   "id": "1a0460c3",
   "metadata": {},
   "outputs": [
    {
     "data": {
      "text/plain": [
       "<Axes: ylabel='price1'>"
      ]
     },
     "execution_count": 193,
     "metadata": {},
     "output_type": "execute_result"
    },
    {
     "data": {
      "image/png": "[encoded data removed]",
      "text/plain": [
       "<Figure size 640x480 with 1 Axes>"
      ]
     },
     "metadata": {},
     "output_type": "display_data"
    }
   ],
   "source": [
    "sns.scatterplot(predict_testr1)\n",
    "sns.scatterplot(y_test1)"
   ]
  },
  {
   "cell_type": "markdown",
   "id": "0b9d42f1",
   "metadata": {},
   "source": [
    "# mean_squared_error"
   ]
  },
  {
   "cell_type": "code",
   "execution_count": 194,
   "id": "242367fe",
   "metadata": {},
   "outputs": [
    {
     "data": {
      "text/plain": [
       "18225753638833.25"
      ]
     },
     "execution_count": 194,
     "metadata": {},
     "output_type": "execute_result"
    }
   ],
   "source": [
    "mean_squared_error(predict_trainr1, y_train1)"
   ]
  },
  {
   "cell_type": "code",
   "execution_count": 195,
   "id": "57e8b7c1",
   "metadata": {},
   "outputs": [
    {
     "data": {
      "text/plain": [
       "19514147417003.15"
      ]
     },
     "execution_count": 195,
     "metadata": {},
     "output_type": "execute_result"
    }
   ],
   "source": [
    "mean_squared_error(predict_testr1, y_test1)"
   ]
  },
  {
   "cell_type": "code",
   "execution_count": null,
   "id": "d218dbaa",
   "metadata": {},
   "outputs": [],
   "source": []
  },
  {
   "cell_type": "code",
   "execution_count": null,
   "id": "f163a6f0",
   "metadata": {},
   "outputs": [],
   "source": []
  },
  {
   "cell_type": "markdown",
   "id": "9b72a576",
   "metadata": {},
   "source": [
    "# Pipline setup "
   ]
  },
  {
   "cell_type": "code",
   "execution_count": 205,
   "id": "4a2dc1cd",
   "metadata": {},
   "outputs": [],
   "source": [
    "end = file2.drop(['Other','servant','Pooja','Study','society','carpet12','Super_area','Location','price'], axis=1)"
   ]
  },
  {
   "cell_type": "code",
   "execution_count": 206,
   "id": "7e5e77cf",
   "metadata": {},
   "outputs": [
    {
     "data": {
      "text/html": [
       "<div>\n",
       "<style scoped>\n",
       "    .dataframe tbody tr th:only-of-type {\n",
       "        vertical-align: middle;\n",
       "    }\n",
       "\n",
       "    .dataframe tbody tr th {\n",
       "        vertical-align: top;\n",
       "    }\n",
       "\n",
       "    .dataframe thead th {\n",
       "        text-align: right;\n",
       "    }\n",
       "</style>\n",
       "<table border=\"1\" class=\"dataframe\">\n",
       "  <thead>\n",
       "    <tr style=\"text-align: right;\">\n",
       "      <th></th>\n",
       "      <th>property_type</th>\n",
       "      <th>price1</th>\n",
       "      <th>price_per_sqft</th>\n",
       "      <th>bedRoom</th>\n",
       "      <th>bathroom</th>\n",
       "      <th>balcony</th>\n",
       "      <th>floorNum</th>\n",
       "      <th>agePossession</th>\n",
       "      <th>BHK</th>\n",
       "      <th>Store</th>\n",
       "      <th>luxury_score</th>\n",
       "      <th>Furnished</th>\n",
       "      <th>Build</th>\n",
       "    </tr>\n",
       "  </thead>\n",
       "  <tbody>\n",
       "    <tr>\n",
       "      <th>0</th>\n",
       "      <td>flat</td>\n",
       "      <td>4500000</td>\n",
       "      <td>5000</td>\n",
       "      <td>2</td>\n",
       "      <td>2</td>\n",
       "      <td>1</td>\n",
       "      <td>low</td>\n",
       "      <td>moderate</td>\n",
       "      <td>2</td>\n",
       "      <td>0</td>\n",
       "      <td>low</td>\n",
       "      <td>semi-furnished</td>\n",
       "      <td>1012.526436</td>\n",
       "    </tr>\n",
       "    <tr>\n",
       "      <th>1</th>\n",
       "      <td>flat</td>\n",
       "      <td>5000000</td>\n",
       "      <td>7692</td>\n",
       "      <td>2</td>\n",
       "      <td>2</td>\n",
       "      <td>1</td>\n",
       "      <td>low</td>\n",
       "      <td>very old</td>\n",
       "      <td>2</td>\n",
       "      <td>0</td>\n",
       "      <td>low</td>\n",
       "      <td>unfurnished</td>\n",
       "      <td>731.329643</td>\n",
       "    </tr>\n",
       "    <tr>\n",
       "      <th>2</th>\n",
       "      <td>flat</td>\n",
       "      <td>4000000</td>\n",
       "      <td>6722</td>\n",
       "      <td>2</td>\n",
       "      <td>2</td>\n",
       "      <td>3</td>\n",
       "      <td>medium</td>\n",
       "      <td>new</td>\n",
       "      <td>2</td>\n",
       "      <td>0</td>\n",
       "      <td>low</td>\n",
       "      <td>semi-furnished</td>\n",
       "      <td>669.446973</td>\n",
       "    </tr>\n",
       "    <tr>\n",
       "      <th>3</th>\n",
       "      <td>flat</td>\n",
       "      <td>14700000</td>\n",
       "      <td>12250</td>\n",
       "      <td>2</td>\n",
       "      <td>2</td>\n",
       "      <td>2</td>\n",
       "      <td>low</td>\n",
       "      <td>new</td>\n",
       "      <td>2</td>\n",
       "      <td>0</td>\n",
       "      <td>high</td>\n",
       "      <td>semi-furnished</td>\n",
       "      <td>1350.035248</td>\n",
       "    </tr>\n",
       "    <tr>\n",
       "      <th>4</th>\n",
       "      <td>flat</td>\n",
       "      <td>7000000</td>\n",
       "      <td>5204</td>\n",
       "      <td>2</td>\n",
       "      <td>2</td>\n",
       "      <td>3</td>\n",
       "      <td>low</td>\n",
       "      <td>under construction</td>\n",
       "      <td>2</td>\n",
       "      <td>0</td>\n",
       "      <td>low</td>\n",
       "      <td>semi-furnished</td>\n",
       "      <td>1209.958261</td>\n",
       "    </tr>\n",
       "    <tr>\n",
       "      <th>...</th>\n",
       "      <td>...</td>\n",
       "      <td>...</td>\n",
       "      <td>...</td>\n",
       "      <td>...</td>\n",
       "      <td>...</td>\n",
       "      <td>...</td>\n",
       "      <td>...</td>\n",
       "      <td>...</td>\n",
       "      <td>...</td>\n",
       "      <td>...</td>\n",
       "      <td>...</td>\n",
       "      <td>...</td>\n",
       "      <td>...</td>\n",
       "    </tr>\n",
       "    <tr>\n",
       "      <th>3326</th>\n",
       "      <td>House</td>\n",
       "      <td>56500000</td>\n",
       "      <td>23870</td>\n",
       "      <td>8</td>\n",
       "      <td>6</td>\n",
       "      <td>4</td>\n",
       "      <td>low</td>\n",
       "      <td>old</td>\n",
       "      <td>8</td>\n",
       "      <td>0</td>\n",
       "      <td>high</td>\n",
       "      <td>semi-furnished</td>\n",
       "      <td>1823.404660</td>\n",
       "    </tr>\n",
       "    <tr>\n",
       "      <th>3327</th>\n",
       "      <td>House</td>\n",
       "      <td>35500000</td>\n",
       "      <td>24500</td>\n",
       "      <td>5</td>\n",
       "      <td>4</td>\n",
       "      <td>4</td>\n",
       "      <td>low</td>\n",
       "      <td>old</td>\n",
       "      <td>5</td>\n",
       "      <td>0</td>\n",
       "      <td>high</td>\n",
       "      <td>semi-furnished</td>\n",
       "      <td>1118.907405</td>\n",
       "    </tr>\n",
       "    <tr>\n",
       "      <th>3328</th>\n",
       "      <td>House</td>\n",
       "      <td>31000000</td>\n",
       "      <td>20026</td>\n",
       "      <td>5</td>\n",
       "      <td>4</td>\n",
       "      <td>4</td>\n",
       "      <td>low</td>\n",
       "      <td>old</td>\n",
       "      <td>5</td>\n",
       "      <td>1</td>\n",
       "      <td>high</td>\n",
       "      <td>semi-furnished</td>\n",
       "      <td>1193.501232</td>\n",
       "    </tr>\n",
       "    <tr>\n",
       "      <th>3329</th>\n",
       "      <td>House</td>\n",
       "      <td>30500000</td>\n",
       "      <td>12551</td>\n",
       "      <td>3</td>\n",
       "      <td>3</td>\n",
       "      <td>2</td>\n",
       "      <td>low</td>\n",
       "      <td>old</td>\n",
       "      <td>3</td>\n",
       "      <td>0</td>\n",
       "      <td>high</td>\n",
       "      <td>semi-furnished</td>\n",
       "      <td>1873.133878</td>\n",
       "    </tr>\n",
       "    <tr>\n",
       "      <th>3330</th>\n",
       "      <td>House</td>\n",
       "      <td>36000000</td>\n",
       "      <td>14815</td>\n",
       "      <td>3</td>\n",
       "      <td>3</td>\n",
       "      <td>2</td>\n",
       "      <td>low</td>\n",
       "      <td>old</td>\n",
       "      <td>3</td>\n",
       "      <td>0</td>\n",
       "      <td>high</td>\n",
       "      <td>semi-furnished</td>\n",
       "      <td>1873.133878</td>\n",
       "    </tr>\n",
       "  </tbody>\n",
       "</table>\n",
       "<p>3331 rows × 13 columns</p>\n",
       "</div>"
      ],
      "text/plain": [
       "     property_type    price1  price_per_sqft  bedRoom  bathroom  balcony  \\\n",
       "0             flat   4500000            5000        2         2        1   \n",
       "1             flat   5000000            7692        2         2        1   \n",
       "2             flat   4000000            6722        2         2        3   \n",
       "3             flat  14700000           12250        2         2        2   \n",
       "4             flat   7000000            5204        2         2        3   \n",
       "...            ...       ...             ...      ...       ...      ...   \n",
       "3326         House  56500000           23870        8         6        4   \n",
       "3327         House  35500000           24500        5         4        4   \n",
       "3328         House  31000000           20026        5         4        4   \n",
       "3329         House  30500000           12551        3         3        2   \n",
       "3330         House  36000000           14815        3         3        2   \n",
       "\n",
       "     floorNum       agePossession  BHK  Store luxury_score       Furnished  \\\n",
       "0         low            moderate    2      0          low  semi-furnished   \n",
       "1         low            very old    2      0          low     unfurnished   \n",
       "2      medium                 new    2      0          low  semi-furnished   \n",
       "3         low                 new    2      0         high  semi-furnished   \n",
       "4         low  under construction    2      0          low  semi-furnished   \n",
       "...       ...                 ...  ...    ...          ...             ...   \n",
       "3326      low                 old    8      0         high  semi-furnished   \n",
       "3327      low                 old    5      0         high  semi-furnished   \n",
       "3328      low                 old    5      1         high  semi-furnished   \n",
       "3329      low                 old    3      0         high  semi-furnished   \n",
       "3330      low                 old    3      0         high  semi-furnished   \n",
       "\n",
       "            Build  \n",
       "0     1012.526436  \n",
       "1      731.329643  \n",
       "2      669.446973  \n",
       "3     1350.035248  \n",
       "4     1209.958261  \n",
       "...           ...  \n",
       "3326  1823.404660  \n",
       "3327  1118.907405  \n",
       "3328  1193.501232  \n",
       "3329  1873.133878  \n",
       "3330  1873.133878  \n",
       "\n",
       "[3331 rows x 13 columns]"
      ]
     },
     "execution_count": 206,
     "metadata": {},
     "output_type": "execute_result"
    }
   ],
   "source": [
    "end"
   ]
  },
  {
   "cell_type": "code",
   "execution_count": 207,
   "id": "225a3d06",
   "metadata": {},
   "outputs": [],
   "source": [
    "from sklearn.compose import ColumnTransformer\n",
    "from sklearn.pipeline import Pipeline"
   ]
  },
  {
   "cell_type": "code",
   "execution_count": 208,
   "id": "d2963971",
   "metadata": {},
   "outputs": [],
   "source": [
    "preprocessor = ColumnTransformer(\n",
    "    transformers=[\n",
    "        ('ohe', OneHotEncoder(drop='first', sparse=False),['property_type','floorNum','agePossession','luxury_score','Furnished']),\n",
    "        ('scaler', StandardScaler(), ['price_per_sqft','bedRoom','BHK','bathroom'])\n",
    "    ],\n",
    "    remainder='passthrough'  \n",
    ")"
   ]
  },
  {
   "cell_type": "code",
   "execution_count": null,
   "id": "448dbc73",
   "metadata": {},
   "outputs": [],
   "source": []
  },
  {
   "cell_type": "code",
   "execution_count": 209,
   "id": "b2019494",
   "metadata": {},
   "outputs": [],
   "source": [
    "pipeline = Pipeline([\n",
    "    ('preprocessor', preprocessor),\n",
    "    ('model', GradientBoostingRegressor(max_depth=3, n_estimators=80, learning_rate=0.10, max_leaf_nodes=3))\n",
    "])\n"
   ]
  },
  {
   "cell_type": "code",
   "execution_count": 211,
   "id": "ba6603e6",
   "metadata": {},
   "outputs": [],
   "source": [
    "x0 = end.drop(['price1'], axis=1)\n",
    "y0 = end['price1']"
   ]
  },
  {
   "cell_type": "code",
   "execution_count": 212,
   "id": "4cd35dd0",
   "metadata": {},
   "outputs": [
    {
     "name": "stderr",
     "output_type": "stream",
     "text": [
      "C:\\Users\\ravin\\anaconda3\\Lib\\site-packages\\sklearn\\preprocessing\\_encoders.py:972: FutureWarning: `sparse` was renamed to `sparse_output` in version 1.2 and will be removed in 1.4. `sparse_output` is ignored unless you leave `sparse` to its default value.\n",
      "  warnings.warn(\n"
     ]
    },
    {
     "data": {
      "text/html": [
       "<style>#sk-container-id-7 {color: black;}#sk-container-id-7 pre{padding: 0;}#sk-container-id-7 div.sk-toggleable {background-color: white;}#sk-container-id-7 label.sk-toggleable__label {cursor: pointer;display: block;width: 100%;margin-bottom: 0;padding: 0.3em;box-sizing: border-box;text-align: center;}#sk-container-id-7 label.sk-toggleable__label-arrow:before {content: \"▸\";float: left;margin-right: 0.25em;color: #696969;}#sk-container-id-7 label.sk-toggleable__label-arrow:hover:before {color: black;}#sk-container-id-7 div.sk-estimator:hover label.sk-toggleable__label-arrow:before {color: black;}#sk-container-id-7 div.sk-toggleable__content {max-height: 0;max-width: 0;overflow: hidden;text-align: left;background-color: #f0f8ff;}#sk-container-id-7 div.sk-toggleable__content pre {margin: 0.2em;color: black;border-radius: 0.25em;background-color: #f0f8ff;}#sk-container-id-7 input.sk-toggleable__control:checked~div.sk-toggleable__content {max-height: 200px;max-width: 100%;overflow: auto;}#sk-container-id-7 input.sk-toggleable__control:checked~label.sk-toggleable__label-arrow:before {content: \"▾\";}#sk-container-id-7 div.sk-estimator input.sk-toggleable__control:checked~label.sk-toggleable__label {background-color: #d4ebff;}#sk-container-id-7 div.sk-label input.sk-toggleable__control:checked~label.sk-toggleable__label {background-color: #d4ebff;}#sk-container-id-7 input.sk-hidden--visually {border: 0;clip: rect(1px 1px 1px 1px);clip: rect(1px, 1px, 1px, 1px);height: 1px;margin: -1px;overflow: hidden;padding: 0;position: absolute;width: 1px;}#sk-container-id-7 div.sk-estimator {font-family: monospace;background-color: #f0f8ff;border: 1px dotted black;border-radius: 0.25em;box-sizing: border-box;margin-bottom: 0.5em;}#sk-container-id-7 div.sk-estimator:hover {background-color: #d4ebff;}#sk-container-id-7 div.sk-parallel-item::after {content: \"\";width: 100%;border-bottom: 1px solid gray;flex-grow: 1;}#sk-container-id-7 div.sk-label:hover label.sk-toggleable__label {background-color: #d4ebff;}#sk-container-id-7 div.sk-serial::before {content: \"\";position: absolute;border-left: 1px solid gray;box-sizing: border-box;top: 0;bottom: 0;left: 50%;z-index: 0;}#sk-container-id-7 div.sk-serial {display: flex;flex-direction: column;align-items: center;background-color: white;padding-right: 0.2em;padding-left: 0.2em;position: relative;}#sk-container-id-7 div.sk-item {position: relative;z-index: 1;}#sk-container-id-7 div.sk-parallel {display: flex;align-items: stretch;justify-content: center;background-color: white;position: relative;}#sk-container-id-7 div.sk-item::before, #sk-container-id-7 div.sk-parallel-item::before {content: \"\";position: absolute;border-left: 1px solid gray;box-sizing: border-box;top: 0;bottom: 0;left: 50%;z-index: -1;}#sk-container-id-7 div.sk-parallel-item {display: flex;flex-direction: column;z-index: 1;position: relative;background-color: white;}#sk-container-id-7 div.sk-parallel-item:first-child::after {align-self: flex-end;width: 50%;}#sk-container-id-7 div.sk-parallel-item:last-child::after {align-self: flex-start;width: 50%;}#sk-container-id-7 div.sk-parallel-item:only-child::after {width: 0;}#sk-container-id-7 div.sk-dashed-wrapped {border: 1px dashed gray;margin: 0 0.4em 0.5em 0.4em;box-sizing: border-box;padding-bottom: 0.4em;background-color: white;}#sk-container-id-7 div.sk-label label {font-family: monospace;font-weight: bold;display: inline-block;line-height: 1.2em;}#sk-container-id-7 div.sk-label-container {text-align: center;}#sk-container-id-7 div.sk-container {/* jupyter's `normalize.less` sets `[hidden] { display: none; }` but bootstrap.min.css set `[hidden] { display: none !important; }` so we also need the `!important` here to be able to override the default hidden behavior on the sphinx rendered scikit-learn.org. See: https://github.com/scikit-learn/scikit-learn/issues/21755 */display: inline-block !important;position: relative;}#sk-container-id-7 div.sk-text-repr-fallback {display: none;}</style><div id=\"sk-container-id-7\" class=\"sk-top-container\"><div class=\"sk-text-repr-fallback\"><pre>Pipeline(steps=[(&#x27;preprocessor&#x27;,\n",
       "                 ColumnTransformer(remainder=&#x27;passthrough&#x27;,\n",
       "                                   transformers=[(&#x27;ohe&#x27;,\n",
       "                                                  OneHotEncoder(drop=&#x27;first&#x27;,\n",
       "                                                                sparse=False),\n",
       "                                                  [&#x27;property_type&#x27;, &#x27;floorNum&#x27;,\n",
       "                                                   &#x27;agePossession&#x27;,\n",
       "                                                   &#x27;luxury_score&#x27;,\n",
       "                                                   &#x27;Furnished&#x27;]),\n",
       "                                                 (&#x27;scaler&#x27;, StandardScaler(),\n",
       "                                                  [&#x27;price_per_sqft&#x27;, &#x27;bedRoom&#x27;,\n",
       "                                                   &#x27;BHK&#x27;, &#x27;bathroom&#x27;])])),\n",
       "                (&#x27;model&#x27;,\n",
       "                 GradientBoostingRegressor(max_leaf_nodes=3, n_estimators=80))])</pre><b>In a Jupyter environment, please rerun this cell to show the HTML representation or trust the notebook. <br />On GitHub, the HTML representation is unable to render, please try loading this page with nbviewer.org.</b></div><div class=\"sk-container\" hidden><div class=\"sk-item sk-dashed-wrapped\"><div class=\"sk-label-container\"><div class=\"sk-label sk-toggleable\"><input class=\"sk-toggleable__control sk-hidden--visually\" id=\"sk-estimator-id-17\" type=\"checkbox\" ><label for=\"sk-estimator-id-17\" class=\"sk-toggleable__label sk-toggleable__label-arrow\">Pipeline</label><div class=\"sk-toggleable__content\"><pre>Pipeline(steps=[(&#x27;preprocessor&#x27;,\n",
       "                 ColumnTransformer(remainder=&#x27;passthrough&#x27;,\n",
       "                                   transformers=[(&#x27;ohe&#x27;,\n",
       "                                                  OneHotEncoder(drop=&#x27;first&#x27;,\n",
       "                                                                sparse=False),\n",
       "                                                  [&#x27;property_type&#x27;, &#x27;floorNum&#x27;,\n",
       "                                                   &#x27;agePossession&#x27;,\n",
       "                                                   &#x27;luxury_score&#x27;,\n",
       "                                                   &#x27;Furnished&#x27;]),\n",
       "                                                 (&#x27;scaler&#x27;, StandardScaler(),\n",
       "                                                  [&#x27;price_per_sqft&#x27;, &#x27;bedRoom&#x27;,\n",
       "                                                   &#x27;BHK&#x27;, &#x27;bathroom&#x27;])])),\n",
       "                (&#x27;model&#x27;,\n",
       "                 GradientBoostingRegressor(max_leaf_nodes=3, n_estimators=80))])</pre></div></div></div><div class=\"sk-serial\"><div class=\"sk-item sk-dashed-wrapped\"><div class=\"sk-label-container\"><div class=\"sk-label sk-toggleable\"><input class=\"sk-toggleable__control sk-hidden--visually\" id=\"sk-estimator-id-18\" type=\"checkbox\" ><label for=\"sk-estimator-id-18\" class=\"sk-toggleable__label sk-toggleable__label-arrow\">preprocessor: ColumnTransformer</label><div class=\"sk-toggleable__content\"><pre>ColumnTransformer(remainder=&#x27;passthrough&#x27;,\n",
       "                  transformers=[(&#x27;ohe&#x27;,\n",
       "                                 OneHotEncoder(drop=&#x27;first&#x27;, sparse=False),\n",
       "                                 [&#x27;property_type&#x27;, &#x27;floorNum&#x27;, &#x27;agePossession&#x27;,\n",
       "                                  &#x27;luxury_score&#x27;, &#x27;Furnished&#x27;]),\n",
       "                                (&#x27;scaler&#x27;, StandardScaler(),\n",
       "                                 [&#x27;price_per_sqft&#x27;, &#x27;bedRoom&#x27;, &#x27;BHK&#x27;,\n",
       "                                  &#x27;bathroom&#x27;])])</pre></div></div></div><div class=\"sk-parallel\"><div class=\"sk-parallel-item\"><div class=\"sk-item\"><div class=\"sk-label-container\"><div class=\"sk-label sk-toggleable\"><input class=\"sk-toggleable__control sk-hidden--visually\" id=\"sk-estimator-id-19\" type=\"checkbox\" ><label for=\"sk-estimator-id-19\" class=\"sk-toggleable__label sk-toggleable__label-arrow\">ohe</label><div class=\"sk-toggleable__content\"><pre>[&#x27;property_type&#x27;, &#x27;floorNum&#x27;, &#x27;agePossession&#x27;, &#x27;luxury_score&#x27;, &#x27;Furnished&#x27;]</pre></div></div></div><div class=\"sk-serial\"><div class=\"sk-item\"><div class=\"sk-estimator sk-toggleable\"><input class=\"sk-toggleable__control sk-hidden--visually\" id=\"sk-estimator-id-20\" type=\"checkbox\" ><label for=\"sk-estimator-id-20\" class=\"sk-toggleable__label sk-toggleable__label-arrow\">OneHotEncoder</label><div class=\"sk-toggleable__content\"><pre>OneHotEncoder(drop=&#x27;first&#x27;, sparse=False)</pre></div></div></div></div></div></div><div class=\"sk-parallel-item\"><div class=\"sk-item\"><div class=\"sk-label-container\"><div class=\"sk-label sk-toggleable\"><input class=\"sk-toggleable__control sk-hidden--visually\" id=\"sk-estimator-id-21\" type=\"checkbox\" ><label for=\"sk-estimator-id-21\" class=\"sk-toggleable__label sk-toggleable__label-arrow\">scaler</label><div class=\"sk-toggleable__content\"><pre>[&#x27;price_per_sqft&#x27;, &#x27;bedRoom&#x27;, &#x27;BHK&#x27;, &#x27;bathroom&#x27;]</pre></div></div></div><div class=\"sk-serial\"><div class=\"sk-item\"><div class=\"sk-estimator sk-toggleable\"><input class=\"sk-toggleable__control sk-hidden--visually\" id=\"sk-estimator-id-22\" type=\"checkbox\" ><label for=\"sk-estimator-id-22\" class=\"sk-toggleable__label sk-toggleable__label-arrow\">StandardScaler</label><div class=\"sk-toggleable__content\"><pre>StandardScaler()</pre></div></div></div></div></div></div><div class=\"sk-parallel-item\"><div class=\"sk-item\"><div class=\"sk-label-container\"><div class=\"sk-label sk-toggleable\"><input class=\"sk-toggleable__control sk-hidden--visually\" id=\"sk-estimator-id-23\" type=\"checkbox\" ><label for=\"sk-estimator-id-23\" class=\"sk-toggleable__label sk-toggleable__label-arrow\">remainder</label><div class=\"sk-toggleable__content\"><pre>[&#x27;balcony&#x27;, &#x27;Store&#x27;, &#x27;Build&#x27;]</pre></div></div></div><div class=\"sk-serial\"><div class=\"sk-item\"><div class=\"sk-estimator sk-toggleable\"><input class=\"sk-toggleable__control sk-hidden--visually\" id=\"sk-estimator-id-24\" type=\"checkbox\" ><label for=\"sk-estimator-id-24\" class=\"sk-toggleable__label sk-toggleable__label-arrow\">passthrough</label><div class=\"sk-toggleable__content\"><pre>passthrough</pre></div></div></div></div></div></div></div></div><div class=\"sk-item\"><div class=\"sk-estimator sk-toggleable\"><input class=\"sk-toggleable__control sk-hidden--visually\" id=\"sk-estimator-id-25\" type=\"checkbox\" ><label for=\"sk-estimator-id-25\" class=\"sk-toggleable__label sk-toggleable__label-arrow\">GradientBoostingRegressor</label><div class=\"sk-toggleable__content\"><pre>GradientBoostingRegressor(max_leaf_nodes=3, n_estimators=80)</pre></div></div></div></div></div></div></div>"
      ],
      "text/plain": [
       "Pipeline(steps=[('preprocessor',\n",
       "                 ColumnTransformer(remainder='passthrough',\n",
       "                                   transformers=[('ohe',\n",
       "                                                  OneHotEncoder(drop='first',\n",
       "                                                                sparse=False),\n",
       "                                                  ['property_type', 'floorNum',\n",
       "                                                   'agePossession',\n",
       "                                                   'luxury_score',\n",
       "                                                   'Furnished']),\n",
       "                                                 ('scaler', StandardScaler(),\n",
       "                                                  ['price_per_sqft', 'bedRoom',\n",
       "                                                   'BHK', 'bathroom'])])),\n",
       "                ('model',\n",
       "                 GradientBoostingRegressor(max_leaf_nodes=3, n_estimators=80))])"
      ]
     },
     "execution_count": 212,
     "metadata": {},
     "output_type": "execute_result"
    }
   ],
   "source": [
    "pipeline.fit(x0, y0)"
   ]
  },
  {
   "cell_type": "code",
   "execution_count": 214,
   "id": "374ac9fb",
   "metadata": {},
   "outputs": [
    {
     "data": {
      "text/plain": [
       "array([ 4045194.44894514,  6047228.46854312,  4285281.76849108, ...,\n",
       "       32107962.48353501, 27985991.74939631, 31231278.74274602])"
      ]
     },
     "execution_count": 214,
     "metadata": {},
     "output_type": "execute_result"
    }
   ],
   "source": [
    "pipeline.predict(x0)"
   ]
  },
  {
   "cell_type": "code",
   "execution_count": null,
   "id": "d0129921",
   "metadata": {},
   "outputs": [],
   "source": []
  },
  {
   "cell_type": "code",
   "execution_count": null,
   "id": "b8965a11",
   "metadata": {},
   "outputs": [],
   "source": []
  },
  {
   "cell_type": "code",
   "execution_count": 215,
   "id": "cff928cf",
   "metadata": {},
   "outputs": [],
   "source": [
    "import pickle "
   ]
  },
  {
   "cell_type": "code",
   "execution_count": 219,
   "id": "98041c6f",
   "metadata": {},
   "outputs": [],
   "source": [
    "pickle.dump(pipeline,open('pipeline.pkl','wb'))\n",
    "\n",
    "pickle.dump(end,open('data.pkl','wb'))"
   ]
  },
  {
   "cell_type": "code",
   "execution_count": null,
   "id": "bd53581d",
   "metadata": {},
   "outputs": [],
   "source": []
  },
  {
   "cell_type": "code",
   "execution_count": null,
   "id": "2705def2",
   "metadata": {},
   "outputs": [],
   "source": []
  },
  {
   "cell_type": "code",
   "execution_count": null,
   "id": "02cbb754",
   "metadata": {},
   "outputs": [],
   "source": []
  },
  {
   "cell_type": "code",
   "execution_count": null,
   "id": "785bfced",
   "metadata": {},
   "outputs": [],
   "source": []
  },
  {
   "cell_type": "code",
   "execution_count": null,
   "id": "125c6fa5",
   "metadata": {},
   "outputs": [],
   "source": []
  }
 ],
 "metadata": {
  "kernelspec": {
   "display_name": "Python 3 (ipykernel)",
   "language": "python",
   "name": "python3"
  },
  "language_info": {
   "codemirror_mode": {
    "name": "ipython",
    "version": 3
   },
   "file_extension": ".py",
   "mimetype": "text/x-python",
   "name": "python",
   "nbconvert_exporter": "python",
   "pygments_lexer": "ipython3",
   "version": "3.11.4"
  }
 },
 "nbformat": 4,
 "nbformat_minor": 5
}
