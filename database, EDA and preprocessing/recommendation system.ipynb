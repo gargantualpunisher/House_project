{
 "cells": [
  {
   "cell_type": "code",
   "execution_count": 103,
   "id": "6fa5d327",
   "metadata": {},
   "outputs": [],
   "source": [
    "import pandas as pd\n",
    "import matplotlib.pyplot as plt\n",
    "%matplotlib inline\n",
    "import seaborn as sns\n",
    "import plotly.express as px\n",
    "import plotly"
   ]
  },
  {
   "cell_type": "code",
   "execution_count": 104,
   "id": "cff00fcb",
   "metadata": {},
   "outputs": [],
   "source": [
    "file = pd.read_excel(r\"D:\\my prepared dataset\\99 acres\\New folder (2)\\final\\New folder\\house.xlsx\")"
   ]
  },
  {
   "cell_type": "code",
   "execution_count": 105,
   "id": "66079764",
   "metadata": {},
   "outputs": [],
   "source": [
    "file1 = pd.read_excel(r\"D:\\my prepared dataset\\99 acres\\New folder (2)\\final\\New folder\\flat.xlsx\")"
   ]
  },
  {
   "cell_type": "code",
   "execution_count": 106,
   "id": "18d4ac98",
   "metadata": {},
   "outputs": [],
   "source": [
    "file2 = file[~file['society'].isnull()]"
   ]
  },
  {
   "cell_type": "code",
   "execution_count": 107,
   "id": "d27bb8aa",
   "metadata": {},
   "outputs": [],
   "source": [
    "file3 = file1[~file1['society'].isnull()]"
   ]
  },
  {
   "cell_type": "code",
   "execution_count": 108,
   "id": "75b89eb7",
   "metadata": {},
   "outputs": [],
   "source": [
    "dof = pd.concat([file2, file3], axis=0)"
   ]
  },
  {
   "cell_type": "code",
   "execution_count": 109,
   "id": "f277e0f2",
   "metadata": {},
   "outputs": [
    {
     "data": {
      "text/html": [
       "<div>\n",
       "<style scoped>\n",
       "    .dataframe tbody tr th:only-of-type {\n",
       "        vertical-align: middle;\n",
       "    }\n",
       "\n",
       "    .dataframe tbody tr th {\n",
       "        vertical-align: top;\n",
       "    }\n",
       "\n",
       "    .dataframe thead th {\n",
       "        text-align: right;\n",
       "    }\n",
       "</style>\n",
       "<table border=\"1\" class=\"dataframe\">\n",
       "  <thead>\n",
       "    <tr style=\"text-align: right;\">\n",
       "      <th></th>\n",
       "      <th>Property_type</th>\n",
       "      <th>society</th>\n",
       "      <th>per_sqft</th>\n",
       "      <th>BHK</th>\n",
       "      <th>bedRoom</th>\n",
       "      <th>Location</th>\n",
       "      <th>luxury</th>\n",
       "      <th>Furnished</th>\n",
       "      <th>price</th>\n",
       "    </tr>\n",
       "  </thead>\n",
       "  <tbody>\n",
       "    <tr>\n",
       "      <th>0</th>\n",
       "      <td>House</td>\n",
       "      <td>Bptp Visionnaire</td>\n",
       "      <td>20115.0</td>\n",
       "      <td>5</td>\n",
       "      <td>5</td>\n",
       "      <td>Sector 70A Gurgaon</td>\n",
       "      <td>49</td>\n",
       "      <td>Semi-Furnished</td>\n",
       "      <td>52500000.0</td>\n",
       "    </tr>\n",
       "    <tr>\n",
       "      <th>6</th>\n",
       "      <td>House</td>\n",
       "      <td>Emaar MGF Marbella</td>\n",
       "      <td>37037.0</td>\n",
       "      <td>5</td>\n",
       "      <td>5</td>\n",
       "      <td>Sector 66 Gurgaon</td>\n",
       "      <td>106</td>\n",
       "      <td>Semi-Furnished</td>\n",
       "      <td>120000000.0</td>\n",
       "    </tr>\n",
       "    <tr>\n",
       "      <th>7</th>\n",
       "      <td>House</td>\n",
       "      <td>Luxury DLF City Floors</td>\n",
       "      <td>48889.0</td>\n",
       "      <td>16</td>\n",
       "      <td>16</td>\n",
       "      <td>DLF Phase 1</td>\n",
       "      <td>31</td>\n",
       "      <td>Semi-Furnished</td>\n",
       "      <td>200000000.0</td>\n",
       "    </tr>\n",
       "    <tr>\n",
       "      <th>9</th>\n",
       "      <td>House</td>\n",
       "      <td>Sushant Lok 1 Builder Floors</td>\n",
       "      <td>10077.0</td>\n",
       "      <td>3</td>\n",
       "      <td>3</td>\n",
       "      <td>Sushant Lok Phase 1</td>\n",
       "      <td>78</td>\n",
       "      <td>Semi-Furnished</td>\n",
       "      <td>19500000.0</td>\n",
       "    </tr>\n",
       "    <tr>\n",
       "      <th>12</th>\n",
       "      <td>House</td>\n",
       "      <td>DLF City Plots Phase 3</td>\n",
       "      <td>34083.0</td>\n",
       "      <td>13</td>\n",
       "      <td>13</td>\n",
       "      <td>DLF Phase 3</td>\n",
       "      <td>91</td>\n",
       "      <td>Fully-Furnished</td>\n",
       "      <td>50000000.0</td>\n",
       "    </tr>\n",
       "    <tr>\n",
       "      <th>...</th>\n",
       "      <td>...</td>\n",
       "      <td>...</td>\n",
       "      <td>...</td>\n",
       "      <td>...</td>\n",
       "      <td>...</td>\n",
       "      <td>...</td>\n",
       "      <td>...</td>\n",
       "      <td>...</td>\n",
       "      <td>...</td>\n",
       "    </tr>\n",
       "    <tr>\n",
       "      <th>2975</th>\n",
       "      <td>flat</td>\n",
       "      <td>ansal heights 86</td>\n",
       "      <td>5541.0</td>\n",
       "      <td>3</td>\n",
       "      <td>3</td>\n",
       "      <td>Sector 86</td>\n",
       "      <td>0</td>\n",
       "      <td>Semi-Unfurnished</td>\n",
       "      <td>10500000.0</td>\n",
       "    </tr>\n",
       "    <tr>\n",
       "      <th>2976</th>\n",
       "      <td>flat</td>\n",
       "      <td>parsvnath green ville</td>\n",
       "      <td>9984.0</td>\n",
       "      <td>5</td>\n",
       "      <td>5</td>\n",
       "      <td>Sector 48</td>\n",
       "      <td>71</td>\n",
       "      <td>Semi-Unfurnished</td>\n",
       "      <td>33000000.0</td>\n",
       "    </tr>\n",
       "    <tr>\n",
       "      <th>2977</th>\n",
       "      <td>flat</td>\n",
       "      <td>raheja vedaanta</td>\n",
       "      <td>5214.0</td>\n",
       "      <td>3</td>\n",
       "      <td>3</td>\n",
       "      <td>Sector 108</td>\n",
       "      <td>95</td>\n",
       "      <td>Semi-Unfurnished</td>\n",
       "      <td>9500000.0</td>\n",
       "    </tr>\n",
       "    <tr>\n",
       "      <th>2978</th>\n",
       "      <td>flat</td>\n",
       "      <td>ambience lagoon</td>\n",
       "      <td>12500.0</td>\n",
       "      <td>3</td>\n",
       "      <td>3</td>\n",
       "      <td>DLF Phase 3</td>\n",
       "      <td>68</td>\n",
       "      <td>Fully-Furnished</td>\n",
       "      <td>58000000.0</td>\n",
       "    </tr>\n",
       "    <tr>\n",
       "      <th>2979</th>\n",
       "      <td>flat</td>\n",
       "      <td>dlf the crest</td>\n",
       "      <td>35222.0</td>\n",
       "      <td>4</td>\n",
       "      <td>4</td>\n",
       "      <td>Sector 54</td>\n",
       "      <td>125</td>\n",
       "      <td>Fully-Furnished</td>\n",
       "      <td>110000000.0</td>\n",
       "    </tr>\n",
       "  </tbody>\n",
       "</table>\n",
       "<p>3318 rows × 9 columns</p>\n",
       "</div>"
      ],
      "text/plain": [
       "     Property_type                       society  per_sqft  BHK  bedRoom  \\\n",
       "0            House              Bptp Visionnaire   20115.0    5        5   \n",
       "6            House            Emaar MGF Marbella   37037.0    5        5   \n",
       "7            House        Luxury DLF City Floors   48889.0   16       16   \n",
       "9            House  Sushant Lok 1 Builder Floors   10077.0    3        3   \n",
       "12           House        DLF City Plots Phase 3   34083.0   13       13   \n",
       "...            ...                           ...       ...  ...      ...   \n",
       "2975          flat              ansal heights 86    5541.0    3        3   \n",
       "2976          flat         parsvnath green ville    9984.0    5        5   \n",
       "2977          flat               raheja vedaanta    5214.0    3        3   \n",
       "2978          flat               ambience lagoon   12500.0    3        3   \n",
       "2979          flat                 dlf the crest   35222.0    4        4   \n",
       "\n",
       "                 Location  luxury         Furnished        price  \n",
       "0      Sector 70A Gurgaon      49    Semi-Furnished   52500000.0  \n",
       "6       Sector 66 Gurgaon     106    Semi-Furnished  120000000.0  \n",
       "7             DLF Phase 1      31    Semi-Furnished  200000000.0  \n",
       "9     Sushant Lok Phase 1      78    Semi-Furnished   19500000.0  \n",
       "12            DLF Phase 3      91   Fully-Furnished   50000000.0  \n",
       "...                   ...     ...               ...          ...  \n",
       "2975            Sector 86       0  Semi-Unfurnished   10500000.0  \n",
       "2976            Sector 48      71  Semi-Unfurnished   33000000.0  \n",
       "2977           Sector 108      95  Semi-Unfurnished    9500000.0  \n",
       "2978          DLF Phase 3      68   Fully-Furnished   58000000.0  \n",
       "2979            Sector 54     125   Fully-Furnished  110000000.0  \n",
       "\n",
       "[3318 rows x 9 columns]"
      ]
     },
     "execution_count": 109,
     "metadata": {},
     "output_type": "execute_result"
    }
   ],
   "source": [
    "dof"
   ]
  },
  {
   "cell_type": "code",
   "execution_count": null,
   "id": "a53a823a",
   "metadata": {},
   "outputs": [],
   "source": []
  },
  {
   "cell_type": "code",
   "execution_count": null,
   "id": "a2152c49",
   "metadata": {},
   "outputs": [],
   "source": []
  },
  {
   "cell_type": "code",
   "execution_count": null,
   "id": "75b42690",
   "metadata": {},
   "outputs": [],
   "source": []
  },
  {
   "cell_type": "code",
   "execution_count": 77,
   "id": "54fac688",
   "metadata": {},
   "outputs": [],
   "source": [
    "def final1(input):\n",
    "    return dof[dof['Location']==input]\n",
    "    "
   ]
  },
  {
   "cell_type": "code",
   "execution_count": null,
   "id": "c6a0965f",
   "metadata": {},
   "outputs": [],
   "source": []
  },
  {
   "cell_type": "code",
   "execution_count": 79,
   "id": "9e813e3e",
   "metadata": {},
   "outputs": [
    {
     "data": {
      "text/html": [
       "<div>\n",
       "<style scoped>\n",
       "    .dataframe tbody tr th:only-of-type {\n",
       "        vertical-align: middle;\n",
       "    }\n",
       "\n",
       "    .dataframe tbody tr th {\n",
       "        vertical-align: top;\n",
       "    }\n",
       "\n",
       "    .dataframe thead th {\n",
       "        text-align: right;\n",
       "    }\n",
       "</style>\n",
       "<table border=\"1\" class=\"dataframe\">\n",
       "  <thead>\n",
       "    <tr style=\"text-align: right;\">\n",
       "      <th></th>\n",
       "      <th>property_type</th>\n",
       "      <th>Location</th>\n",
       "      <th>Furnish_Details</th>\n",
       "      <th>society</th>\n",
       "      <th>luxury_score</th>\n",
       "    </tr>\n",
       "  </thead>\n",
       "  <tbody>\n",
       "    <tr>\n",
       "      <th>242</th>\n",
       "      <td>House</td>\n",
       "      <td>Sector 3 Gurgaon</td>\n",
       "      <td>0</td>\n",
       "      <td>Bhim Garh Kheri</td>\n",
       "      <td>0</td>\n",
       "    </tr>\n",
       "  </tbody>\n",
       "</table>\n",
       "</div>"
      ],
      "text/plain": [
       "    property_type          Location  Furnish_Details          society  \\\n",
       "242         House  Sector 3 Gurgaon                0  Bhim Garh Kheri   \n",
       "\n",
       "     luxury_score  \n",
       "242             0  "
      ]
     },
     "execution_count": 79,
     "metadata": {},
     "output_type": "execute_result"
    }
   ],
   "source": [
    "final1('Sector 3 Gurgaon')"
   ]
  },
  {
   "cell_type": "code",
   "execution_count": null,
   "id": "2f83b1f9",
   "metadata": {},
   "outputs": [],
   "source": []
  },
  {
   "cell_type": "code",
   "execution_count": null,
   "id": "b19b285d",
   "metadata": {},
   "outputs": [],
   "source": []
  },
  {
   "cell_type": "code",
   "execution_count": null,
   "id": "4faf7902",
   "metadata": {},
   "outputs": [],
   "source": []
  },
  {
   "cell_type": "code",
   "execution_count": 82,
   "id": "9867c6ae",
   "metadata": {},
   "outputs": [],
   "source": [
    "import pickle "
   ]
  },
  {
   "cell_type": "code",
   "execution_count": 110,
   "id": "da4db54f",
   "metadata": {},
   "outputs": [],
   "source": [
    "\n",
    "\n",
    "pickle.dump(dof, open('tune.pkl','wb'))\n",
    "\n",
    "#pickle.dump(final1, open('mech.pkl','wb'))"
   ]
  },
  {
   "cell_type": "code",
   "execution_count": null,
   "id": "abe75034",
   "metadata": {},
   "outputs": [],
   "source": []
  },
  {
   "cell_type": "code",
   "execution_count": null,
   "id": "f65ee21d",
   "metadata": {},
   "outputs": [],
   "source": []
  },
  {
   "cell_type": "code",
   "execution_count": null,
   "id": "4039b618",
   "metadata": {},
   "outputs": [],
   "source": []
  },
  {
   "cell_type": "code",
   "execution_count": null,
   "id": "5e3d031e",
   "metadata": {},
   "outputs": [],
   "source": []
  },
  {
   "cell_type": "code",
   "execution_count": null,
   "id": "6cad418e",
   "metadata": {},
   "outputs": [],
   "source": []
  },
  {
   "cell_type": "code",
   "execution_count": null,
   "id": "d8caed6d",
   "metadata": {},
   "outputs": [],
   "source": []
  },
  {
   "cell_type": "code",
   "execution_count": null,
   "id": "0a68a87c",
   "metadata": {},
   "outputs": [],
   "source": []
  },
  {
   "cell_type": "code",
   "execution_count": null,
   "id": "2282170a",
   "metadata": {},
   "outputs": [],
   "source": []
  },
  {
   "cell_type": "code",
   "execution_count": null,
   "id": "5dfaaf88",
   "metadata": {},
   "outputs": [],
   "source": []
  }
 ],
 "metadata": {
  "kernelspec": {
   "display_name": "Python 3 (ipykernel)",
   "language": "python",
   "name": "python3"
  },
  "language_info": {
   "codemirror_mode": {
    "name": "ipython",
    "version": 3
   },
   "file_extension": ".py",
   "mimetype": "text/x-python",
   "name": "python",
   "nbconvert_exporter": "python",
   "pygments_lexer": "ipython3",
   "version": "3.11.4"
  }
 },
 "nbformat": 4,
 "nbformat_minor": 5
}
